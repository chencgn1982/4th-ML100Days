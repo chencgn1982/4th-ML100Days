{
 "cells": [
  {
   "cell_type": "markdown",
   "metadata": {},
   "source": [
    "### 作業\n",
    "目前已經學過許多的模型，相信大家對整體流程應該比較掌握了，這次作業請改用**手寫辨識資料集**，步驟流程都是一樣的，請試著自己撰寫程式碼來完成所有步驟"
   ]
  },
  {
   "cell_type": "code",
   "execution_count": 21,
   "metadata": {},
   "outputs": [],
   "source": [
    "from sklearn import datasets, metrics\n",
    "from sklearn.ensemble import GradientBoostingClassifier, GradientBoostingRegressor\n",
    "from sklearn.model_selection import train_test_split\n",
    ""
   ]
  },
  {
   "cell_type": "code",
   "execution_count": 22,
   "metadata": {},
   "outputs": [],
   "source": [
    "\"\"\"\n",
    "Load and return the digits dataset (classification).\n",
    "\n",
    "Each datapoint is a 8x8 image of a digit.\n",
    "\n",
    "### Classes 10 Samples per class ~180 Samples total 1797 Dimensionality 64\n",
    "\"\"\"\n",
    "digits = datasets.load_digits()\n",
    "#split data\n",
    "fea_train, fea_test, label_train, label_test = train_test_split(digits.data, digits.target, test_size=0.1, random_state=1)\n",
    "#create model (100 trees)\n",
    "gbc = GradientBoostingClassifier(loss=\"deviance\", n_estimators=100)\n",
    "#train model\n",
    "gbc.fit(fea_train, label_train)\n",
    "#predict\n",
    "pred = gbc.predict(fea_test)"
   ]
  },
  {
   "cell_type": "code",
   "execution_count": 23,
   "metadata": {},
   "outputs": [
    {
     "output_type": "stream",
     "name": "stdout",
     "text": "Accuracy : 0.9555555555555556\n"
    }
   ],
   "source": [
    "#accuracy\n",
    "print(f\"Accuracy : {metrics.accuracy_score(pred, label_test)}\")"
   ]
  },
  {
   "cell_type": "code",
   "execution_count": 24,
   "metadata": {},
   "outputs": [
    {
     "output_type": "stream",
     "name": "stdout",
     "text": "Accuracy : 0.9944444444444445\n"
    }
   ],
   "source": [
    "from sklearn.ensemble import RandomForestClassifier\n",
    "#create model (100 trees)\n",
    "rfc = RandomForestClassifier(n_estimators=100)\n",
    "#train model\n",
    "rfc.fit(fea_train, label_train)\n",
    "#predict\n",
    "rfc_pred = rfc.predict(fea_test)\n",
    "#accuracy\n",
    "print(f\"Accuracy : {metrics.accuracy_score(rfc_pred, label_test)}\")"
   ]
  },
  {
   "cell_type": "code",
   "execution_count": null,
   "metadata": {},
   "outputs": [],
   "source": []
  }
 ],
 "metadata": {
  "kernelspec": {
   "display_name": "Python 3",
   "language": "python",
   "name": "python3"
  },
  "language_info": {
   "codemirror_mode": {
    "name": "ipython",
    "version": 3
   },
   "file_extension": ".py",
   "mimetype": "text/x-python",
   "name": "python",
   "nbconvert_exporter": "python",
   "pygments_lexer": "ipython3",
   "version": "3.7.4-final"
  }
 },
 "nbformat": 4,
 "nbformat_minor": 2
}