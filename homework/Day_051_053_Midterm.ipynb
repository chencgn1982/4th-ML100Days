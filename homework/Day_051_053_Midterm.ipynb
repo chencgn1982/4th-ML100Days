{
 "cells": [
  {
   "cell_type": "markdown",
   "metadata": {},
   "source": [
    "https://www.kaggle.com/c/ml100/overview"
   ],
   "execution_count": null,
   "outputs": []
  },
  {
   "cell_type": "code",
   "execution_count": 227,
   "metadata": {},
   "outputs": [
    {
     "output_type": "execute_result",
     "data": {
      "text/plain": "       bonus  deferral_payments  deferred_income  director_fees  \\\n0  1750000.0                NaN       -3504386.0            NaN   \n1  5600000.0                NaN              NaN            NaN   \n2   200000.0                NaN          -4167.0            NaN   \n3   800000.0                NaN              NaN            NaN   \n4  1250000.0                NaN        -262500.0            NaN   \n\n   exercised_stock_options  expenses  from_messages  from_poi_to_this_person  \\\n0               19794175.0   46950.0           18.0                     42.0   \n1               19250000.0   29336.0          108.0                     88.0   \n2                1624396.0   22884.0           39.0                     13.0   \n3                      NaN  118134.0            NaN                      NaN   \n4                      NaN   35818.0          144.0                    199.0   \n\n   from_this_person_to_poi  loan_advances  long_term_incentive      other  \\\n0                      4.0            NaN            1617011.0   174839.0   \n1                     30.0            NaN            1920000.0    22122.0   \n2                     14.0            NaN                  NaN  1573324.0   \n3                      NaN            NaN             602671.0   907502.0   \n4                     25.0            NaN             375304.0      486.0   \n\n   restricted_stock  restricted_stock_deferred     salary  \\\n0         2748364.0                        NaN   420636.0   \n1         6843672.0                        NaN  1111258.0   \n2          869220.0                        NaN   211844.0   \n3          985032.0                        NaN   224305.0   \n4          126027.0                        NaN   240189.0   \n\n   shared_receipt_with_poi  to_messages  total_payments  total_stock_value  \n0                    864.0        905.0        505050.0         22542539.0  \n1                   2042.0       3627.0       8682716.0         26093672.0  \n2                     91.0        225.0       2003885.0          2493616.0  \n3                      NaN          NaN       2652612.0           985032.0  \n4                   2188.0       2598.0       1639297.0           126027.0  ",
      "text/html": "<div>\n<style scoped>\n    .dataframe tbody tr th:only-of-type {\n        vertical-align: middle;\n    }\n\n    .dataframe tbody tr th {\n        vertical-align: top;\n    }\n\n    .dataframe thead th {\n        text-align: right;\n    }\n</style>\n<table border=\"1\" class=\"dataframe\">\n  <thead>\n    <tr style=\"text-align: right;\">\n      <th></th>\n      <th>bonus</th>\n      <th>deferral_payments</th>\n      <th>deferred_income</th>\n      <th>director_fees</th>\n      <th>exercised_stock_options</th>\n      <th>expenses</th>\n      <th>from_messages</th>\n      <th>from_poi_to_this_person</th>\n      <th>from_this_person_to_poi</th>\n      <th>loan_advances</th>\n      <th>long_term_incentive</th>\n      <th>other</th>\n      <th>restricted_stock</th>\n      <th>restricted_stock_deferred</th>\n      <th>salary</th>\n      <th>shared_receipt_with_poi</th>\n      <th>to_messages</th>\n      <th>total_payments</th>\n      <th>total_stock_value</th>\n    </tr>\n  </thead>\n  <tbody>\n    <tr>\n      <td>0</td>\n      <td>1750000.0</td>\n      <td>NaN</td>\n      <td>-3504386.0</td>\n      <td>NaN</td>\n      <td>19794175.0</td>\n      <td>46950.0</td>\n      <td>18.0</td>\n      <td>42.0</td>\n      <td>4.0</td>\n      <td>NaN</td>\n      <td>1617011.0</td>\n      <td>174839.0</td>\n      <td>2748364.0</td>\n      <td>NaN</td>\n      <td>420636.0</td>\n      <td>864.0</td>\n      <td>905.0</td>\n      <td>505050.0</td>\n      <td>22542539.0</td>\n    </tr>\n    <tr>\n      <td>1</td>\n      <td>5600000.0</td>\n      <td>NaN</td>\n      <td>NaN</td>\n      <td>NaN</td>\n      <td>19250000.0</td>\n      <td>29336.0</td>\n      <td>108.0</td>\n      <td>88.0</td>\n      <td>30.0</td>\n      <td>NaN</td>\n      <td>1920000.0</td>\n      <td>22122.0</td>\n      <td>6843672.0</td>\n      <td>NaN</td>\n      <td>1111258.0</td>\n      <td>2042.0</td>\n      <td>3627.0</td>\n      <td>8682716.0</td>\n      <td>26093672.0</td>\n    </tr>\n    <tr>\n      <td>2</td>\n      <td>200000.0</td>\n      <td>NaN</td>\n      <td>-4167.0</td>\n      <td>NaN</td>\n      <td>1624396.0</td>\n      <td>22884.0</td>\n      <td>39.0</td>\n      <td>13.0</td>\n      <td>14.0</td>\n      <td>NaN</td>\n      <td>NaN</td>\n      <td>1573324.0</td>\n      <td>869220.0</td>\n      <td>NaN</td>\n      <td>211844.0</td>\n      <td>91.0</td>\n      <td>225.0</td>\n      <td>2003885.0</td>\n      <td>2493616.0</td>\n    </tr>\n    <tr>\n      <td>3</td>\n      <td>800000.0</td>\n      <td>NaN</td>\n      <td>NaN</td>\n      <td>NaN</td>\n      <td>NaN</td>\n      <td>118134.0</td>\n      <td>NaN</td>\n      <td>NaN</td>\n      <td>NaN</td>\n      <td>NaN</td>\n      <td>602671.0</td>\n      <td>907502.0</td>\n      <td>985032.0</td>\n      <td>NaN</td>\n      <td>224305.0</td>\n      <td>NaN</td>\n      <td>NaN</td>\n      <td>2652612.0</td>\n      <td>985032.0</td>\n    </tr>\n    <tr>\n      <td>4</td>\n      <td>1250000.0</td>\n      <td>NaN</td>\n      <td>-262500.0</td>\n      <td>NaN</td>\n      <td>NaN</td>\n      <td>35818.0</td>\n      <td>144.0</td>\n      <td>199.0</td>\n      <td>25.0</td>\n      <td>NaN</td>\n      <td>375304.0</td>\n      <td>486.0</td>\n      <td>126027.0</td>\n      <td>NaN</td>\n      <td>240189.0</td>\n      <td>2188.0</td>\n      <td>2598.0</td>\n      <td>1639297.0</td>\n      <td>126027.0</td>\n    </tr>\n  </tbody>\n</table>\n</div>"
     },
     "metadata": {},
     "execution_count": 227
    }
   ],
   "source": [
    "import pandas as pd\n",
    "import numpy as np\n",
    "import copy, time\n",
    "import warnings\n",
    "warnings.filterwarnings('ignore')\n",
    "from IPython.display import display\n",
    "from sklearn.preprocessing import MinMaxScaler\n",
    "from sklearn.model_selection import cross_val_score\n",
    "from sklearn.linear_model import LogisticRegression\n",
    "from sklearn.tree import DecisionTreeClassifier\n",
    "from sklearn.ensemble import GradientBoostingClassifier, RandomForestClassifier\n",
    "from sklearn.preprocessing import LabelEncoder\n",
    "from sklearn.metrics import accuracy_score\n",
    "from sklearn.model_selection import train_test_split, KFold, GridSearchCV\n",
    "\n",
    "data_path = 'dataML100Midterm/'\n",
    "df_train = pd.read_csv(data_path + 'train_data.csv')\n",
    "df_test = pd.read_csv(data_path + 'test_features.csv')\n",
    "#Get Label\n",
    "all_label = df_train['poi'] \n",
    "#Get list of test names for submission\n",
    "names = df_test['name'] \n",
    "df_train = df_train.drop(['name', 'email_address', 'poi'] , axis=1)\n",
    "df_test = df_test.drop(['name', 'email_address'] , axis=1)\n",
    "df = pd.concat([df_train, df_test])\n",
    "df.head()"
   ]
  },
  {
   "cell_type": "code",
   "execution_count": 228,
   "metadata": {},
   "outputs": [
    {
     "output_type": "display_data",
     "data": {
      "text/plain": "                           Missing Ratio\nloan_advances                  97.260274\ndirector_fees                  88.356164\nrestricted_stock_deferred      87.671233\ndeferral_payments              73.287671\ndeferred_income                66.438356\nlong_term_incentive            54.794521\nbonus                          43.835616\nfrom_this_person_to_poi        41.095890\nfrom_poi_to_this_person        41.095890\nfrom_messages                  41.095890",
      "text/html": "<div>\n<style scoped>\n    .dataframe tbody tr th:only-of-type {\n        vertical-align: middle;\n    }\n\n    .dataframe tbody tr th {\n        vertical-align: top;\n    }\n\n    .dataframe thead th {\n        text-align: right;\n    }\n</style>\n<table border=\"1\" class=\"dataframe\">\n  <thead>\n    <tr style=\"text-align: right;\">\n      <th></th>\n      <th>Missing Ratio</th>\n    </tr>\n  </thead>\n  <tbody>\n    <tr>\n      <td>loan_advances</td>\n      <td>97.260274</td>\n    </tr>\n    <tr>\n      <td>director_fees</td>\n      <td>88.356164</td>\n    </tr>\n    <tr>\n      <td>restricted_stock_deferred</td>\n      <td>87.671233</td>\n    </tr>\n    <tr>\n      <td>deferral_payments</td>\n      <td>73.287671</td>\n    </tr>\n    <tr>\n      <td>deferred_income</td>\n      <td>66.438356</td>\n    </tr>\n    <tr>\n      <td>long_term_incentive</td>\n      <td>54.794521</td>\n    </tr>\n    <tr>\n      <td>bonus</td>\n      <td>43.835616</td>\n    </tr>\n    <tr>\n      <td>from_this_person_to_poi</td>\n      <td>41.095890</td>\n    </tr>\n    <tr>\n      <td>from_poi_to_this_person</td>\n      <td>41.095890</td>\n    </tr>\n    <tr>\n      <td>from_messages</td>\n      <td>41.095890</td>\n    </tr>\n  </tbody>\n</table>\n</div>"
     },
     "metadata": {}
    }
   ],
   "source": [
    "# 檢查 DataFrame 空缺值的狀態\n",
    "def na_check(df_data):\n",
    "    data_na = (df_data.isnull().sum() / len(df_data)) * 100\n",
    "    data_na = data_na.drop(data_na[data_na == 0].index).sort_values(ascending=False)\n",
    "    missing_data = pd.DataFrame({'Missing Ratio' :data_na})\n",
    "    display(missing_data.head(10))\n",
    "na_check(df)"
   ]
  },
  {
   "cell_type": "code",
   "execution_count": 229,
   "metadata": {},
   "outputs": [],
   "source": [
    "#fill 0 in following cols\n",
    "zero_cols = ['loan_advances', 'director_fees', 'restricted_stock_deferred', 'deferral_payments', 'deferred_income', 'long_term_incentive', 'bonus', 'from_this_person_to_poi', 'from_poi_to_this_person', 'from_messages', 'to_messages', 'shared_receipt_with_poi', 'other', 'salary', 'expenses', 'exercised_stock_options', 'restricted_stock', 'total_payments', 'total_stock_value']\n",
    "for n in zero_cols:\n",
    "    df[n] = df[n].fillna(0)"
   ]
  },
  {
   "cell_type": "code",
   "execution_count": 230,
   "metadata": {},
   "outputs": [
    {
     "output_type": "display_data",
     "data": {
      "text/plain": "Empty DataFrame\nColumns: [Missing Ratio]\nIndex: []",
      "text/html": "<div>\n<style scoped>\n    .dataframe tbody tr th:only-of-type {\n        vertical-align: middle;\n    }\n\n    .dataframe tbody tr th {\n        vertical-align: top;\n    }\n\n    .dataframe thead th {\n        text-align: right;\n    }\n</style>\n<table border=\"1\" class=\"dataframe\">\n  <thead>\n    <tr style=\"text-align: right;\">\n      <th></th>\n      <th>Missing Ratio</th>\n    </tr>\n  </thead>\n  <tbody>\n  </tbody>\n</table>\n</div>"
     },
     "metadata": {}
    }
   ],
   "source": [
    "# 做完各種補缺值, 確認一下有沒有遺漏\n",
    "na_check(df)"
   ]
  },
  {
   "cell_type": "code",
   "execution_count": 231,
   "metadata": {},
   "outputs": [],
   "source": [
    "df = MinMaxScaler().fit_transform(df)\n",
    "# split data \n",
    "label_num = all_label.shape[0]\n",
    "all_fea = df[:label_num] # all feature for training\n",
    "test = df[label_num:] # feature for testing\n",
    ""
   ]
  },
  {
   "cell_type": "code",
   "execution_count": 232,
   "metadata": {},
   "outputs": [
    {
     "output_type": "execute_result",
     "data": {
      "text/plain": "0.8854341736694679"
     },
     "metadata": {},
     "execution_count": 232
    }
   ],
   "source": [
    "lr = LogisticRegression()\n",
    "cross_val_score(lr, all_fea, all_label, cv=7).mean()"
   ]
  },
  {
   "cell_type": "code",
   "execution_count": 233,
   "metadata": {},
   "outputs": [
    {
     "output_type": "execute_result",
     "data": {
      "text/plain": "0.8323879551820729"
     },
     "metadata": {},
     "execution_count": 233
    }
   ],
   "source": [
    "dtc = DecisionTreeClassifier()\n",
    "cross_val_score(dtc, all_fea, all_label, cv=7).mean()\n",
    ""
   ]
  },
  {
   "cell_type": "code",
   "execution_count": 234,
   "metadata": {},
   "outputs": [
    {
     "output_type": "execute_result",
     "data": {
      "text/plain": "0.8849089635854341"
     },
     "metadata": {},
     "execution_count": 234
    }
   ],
   "source": [
    "rfc = RandomForestClassifier()\n",
    "cross_val_score(rfc, all_fea, all_label, cv=7).mean()\n",
    ""
   ]
  },
  {
   "cell_type": "code",
   "execution_count": 235,
   "metadata": {},
   "outputs": [
    {
     "output_type": "execute_result",
     "data": {
      "text/plain": "0.8854341736694679"
     },
     "metadata": {},
     "execution_count": 235
    }
   ],
   "source": [
    "gbc = GradientBoostingClassifier()\n",
    "cross_val_score(gbc, all_fea, all_label, cv=7).mean()"
   ]
  },
  {
   "cell_type": "code",
   "execution_count": 236,
   "metadata": {},
   "outputs": [],
   "source": [
    "# define submit function (output predicted result to csv file)\n",
    "def submit(filename, model):\n",
    "    pred = model.predict_proba(test)[:, 1]\n",
    "    sub = pd.DataFrame({'name' : names, 'poi' : pred})\n",
    "    sub.to_csv(filename, index=False)"
   ]
  },
  {
   "cell_type": "code",
   "execution_count": 237,
   "metadata": {},
   "outputs": [],
   "source": [
    "# lr.fit(all_fea, all_label)\n",
    "# submit(\"LogisticRegression.csv\", lr)\n",
    "# rfc.fit(all_fea, all_label)\n",
    "# submit(\"RandomForestClassifier.csv\", rfc)\n",
    "# gbc.fit(all_fea, all_label)\n",
    "# submit(\"GradientBoostingClassifier.csv\", gbc)\n",
    "# dtc2 = DecisionTreeClassifier()\n",
    "# dtc2.fit(all_fea, all_label)\n",
    "# submit(\"DecisionTreeClassifier.csv\", dtc2)"
   ]
  },
  {
   "cell_type": "code",
   "execution_count": 238,
   "metadata": {},
   "outputs": [],
   "source": [
    "#grid search \n",
    "#hyper-parameter dict\n",
    "n_estimators = [100, 200, 300]\n",
    "max_dep = [1, 3, 5, ]\n",
    "param_grid = dict(n_estimators=n_estimators, max_depth=max_dep)\n",
    "#search best parameter\n",
    "#create search object\n",
    "para_search = GridSearchCV(gbc, param_grid, n_jobs=-1)\n",
    "#start search\n",
    "search_result = para_search.fit(all_fea, all_label)"
   ]
  },
  {
   "cell_type": "code",
   "execution_count": 239,
   "metadata": {},
   "outputs": [
    {
     "output_type": "execute_result",
     "data": {
      "text/plain": "0.8670518207282913"
     },
     "metadata": {},
     "execution_count": 239
    }
   ],
   "source": [
    "#create GradientBoostingClassifier with the parameter\n",
    "gbc_bestpara = GradientBoostingClassifier(n_estimators=search_result.best_params_['n_estimators'], max_depth=search_result.best_params_['max_depth'])\n",
    "cross_val_score(gbc_bestpara, all_fea, all_label, cv=7).mean()"
   ]
  },
  {
   "cell_type": "code",
   "execution_count": 240,
   "metadata": {},
   "outputs": [],
   "source": [
    "# gbc_bestpara.fit(all_fea, all_label)\n",
    "# submit(\"GradientBoostingClassifier_bestpara.csv\", gbc_bestpara)"
   ]
  },
  {
   "cell_type": "code",
   "execution_count": null,
   "metadata": {},
   "outputs": [],
   "source": []
  }
 ],
 "metadata": {
  "kernelspec": {
   "display_name": "Python 3",
   "language": "python",
   "name": "python3"
  },
  "language_info": {
   "codemirror_mode": {
    "name": "ipython",
    "version": 3
   },
   "file_extension": ".py",
   "mimetype": "text/x-python",
   "name": "python",
   "nbconvert_exporter": "python",
   "pygments_lexer": "ipython3",
   "version": "3.7.4-final"
  }
 },
 "nbformat": 4,
 "nbformat_minor": 2
}