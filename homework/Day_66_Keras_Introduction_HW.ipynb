{
  "nbformat": 4,
  "nbformat_minor": 0,
  "metadata": {
    "kernelspec": {
      "display_name": "Python 3",
      "language": "python",
      "name": "python3"
    },
    "language_info": {
      "codemirror_mode": {
        "name": "ipython",
        "version": 3
      },
      "file_extension": ".py",
      "mimetype": "text/x-python",
      "name": "python",
      "nbconvert_exporter": "python",
      "pygments_lexer": "ipython3",
      "version": "3.7.0"
    },
    "colab": {
      "name": "Copy of Day66-Keras_Introduction_HW.ipynb",
      "provenance": []
    }
  },
  "cells": [
    {
      "cell_type": "markdown",
      "metadata": {
        "id": "jvHFCogRMqv4",
        "colab_type": "text"
      },
      "source": [
        "# 作業目標:\n",
        "    檢查 backend\n",
        "    檢查 fuzz factor\n",
        "    設定 Keras 浮點運算為float16\n",
        "\n"
      ]
    },
    {
      "cell_type": "code",
      "metadata": {
        "id": "Y-2OZq2aMqv5",
        "colab_type": "code",
        "colab": {}
      },
      "source": [
        "import keras\n",
        "from keras import backend as K\n"
      ],
      "execution_count": 0,
      "outputs": []
    },
    {
      "cell_type": "markdown",
      "metadata": {
        "id": "R9Yj8k15Mqv8",
        "colab_type": "text"
      },
      "source": [
        "# fuzz factor\n",
        "\n",
        "數值表達式中使用的模糊因子。\n",
        "此功能是一組Keras後端功能的一部分，可以對後端張量引擎（例如TensorFlow，CNTK，Theano等）的核心操作進行更低級別的訪問。"
      ]
    },
    {
      "cell_type": "code",
      "metadata": {
        "id": "jD6bsjyLMqv8",
        "colab_type": "code",
        "outputId": "bc09ace8-32cf-43dd-b139-3db8e09706ab",
        "colab": {
          "base_uri": "https://localhost:8080/",
          "height": 35
        }
      },
      "source": [
        "print(keras.__version__)"
      ],
      "execution_count": 0,
      "outputs": [
        {
          "output_type": "stream",
          "text": [
            "2.3.1\n"
          ],
          "name": "stdout"
        }
      ]
    },
    {
      "cell_type": "code",
      "metadata": {
        "id": "YLOeD-t_Mqv_",
        "colab_type": "code",
        "outputId": "9a654e64-ece6-40e8-a74d-db5f6aa2390a",
        "colab": {
          "base_uri": "https://localhost:8080/",
          "height": 35
        }
      },
      "source": [
        "#  GPU加速测试, True - Windows用戶得到True也沒有關係，因為Anaconda中已經內置了MKL加速庫\n",
        "import numpy \n",
        "id(numpy.dot) == id(numpy.core.multiarray.dot) "
      ],
      "execution_count": 0,
      "outputs": [
        {
          "output_type": "execute_result",
          "data": {
            "text/plain": [
              "True"
            ]
          },
          "metadata": {
            "tags": []
          },
          "execution_count": 4
        }
      ]
    },
    {
      "cell_type": "code",
      "metadata": {
        "id": "PoSk9ls1MqwB",
        "colab_type": "code",
        "outputId": "9c5ea8cf-e286-413f-af33-29610c9535b7",
        "colab": {
          "base_uri": "https://localhost:8080/",
          "height": 35
        }
      },
      "source": [
        "#檢查Keras float \n",
        "K.floatx()\n"
      ],
      "execution_count": 0,
      "outputs": [
        {
          "output_type": "execute_result",
          "data": {
            "text/plain": [
              "'float32'"
            ]
          },
          "metadata": {
            "tags": []
          },
          "execution_count": 5
        }
      ]
    },
    {
      "cell_type": "code",
      "metadata": {
        "id": "WeJJNi9uMqwE",
        "colab_type": "code",
        "colab": {}
      },
      "source": [
        ""
      ],
      "execution_count": 0,
      "outputs": []
    }
  ]
}
