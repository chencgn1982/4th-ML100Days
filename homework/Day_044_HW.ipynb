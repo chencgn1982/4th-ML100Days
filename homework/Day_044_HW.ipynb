{
 "cells": [
  {
   "cell_type": "markdown",
   "metadata": {},
   "source": [
    "## [作業重點]\n",
    "確保你了解隨機森林模型中每個超參數的意義，並觀察調整超參數對結果的影響"
   ]
  },
  {
   "cell_type": "markdown",
   "metadata": {},
   "source": [
    "## 作業\n",
    "\n",
    "1. 試著調整 RandomForestClassifier(...) 中的參數，並觀察是否會改變結果？\n",
    "2. 改用其他資料集 (boston, wine)，並與回歸模型與決策樹的結果進行比較"
   ]
  },
  {
   "cell_type": "code",
   "execution_count": 3,
   "metadata": {},
   "outputs": [],
   "source": [
    "from sklearn import datasets, metrics\n",
    "from sklearn.ensemble import RandomForestClassifier, RandomForestRegressor\n",
    "from sklearn.model_selection import train_test_split"
   ]
  },
  {
   "cell_type": "code",
   "execution_count": 31,
   "metadata": {},
   "outputs": [
    {
     "output_type": "stream",
     "name": "stdout",
     "text": "MSE : 10.872052780848092\n"
    }
   ],
   "source": [
    "#Load and return the boston house-prices dataset (regression).\n",
    "boston = datasets.load_boston()\n",
    "#split\n",
    "fea_train, fea_test, label_train, label_test = train_test_split(boston.data, boston.target, test_size = 0.2, random_state = 1)\n",
    "#create modle\n",
    "RFR = RandomForestRegressor(n_estimators=20, max_depth=4)\n",
    "#train model\n",
    "RFR.fit(fea_train, label_train)\n",
    "#predict \n",
    "bos_pred = RFR.predict(fea_test)\n",
    "#MSE\n",
    "print(f\"MSE : {metrics.mean_squared_error(bos_pred, label_test)}\")"
   ]
  },
  {
   "cell_type": "code",
   "execution_count": 30,
   "metadata": {},
   "outputs": [
    {
     "output_type": "stream",
     "name": "stdout",
     "text": "Accuracy : 0.9722222222222222\n['alcohol', 'malic_acid', 'ash', 'alcalinity_of_ash', 'magnesium', 'total_phenols', 'flavanoids', 'nonflavanoid_phenols', 'proanthocyanins', 'color_intensity', 'hue', 'od280/od315_of_diluted_wines', 'proline']\n[0.17493569 0.01704984 0.01077193 0.01173263 0.04581546 0.03642376\n 0.1512977  0.01314553 0.01625931 0.16430479 0.16243669 0.07483129\n 0.12099536]\n"
    }
   ],
   "source": [
    "#Load and return the wine dataset (classification).\n",
    "wine = datasets.load_wine()\n",
    "#split\n",
    "fea_train, fea_test, label_train, label_test = train_test_split(wine.data, wine.target, test_size=0.2, random_state=1)\n",
    "#create model\n",
    "RFC = RandomForestClassifier(n_estimators=20, max_depth=4)\n",
    "#train model\n",
    "RFC.fit(fea_train, label_train)\n",
    "#predict\n",
    "wine_pred = RFC.predict(fea_test)\n",
    "#accuracy\n",
    "print(f\"Accuracy : {metrics.accuracy_score(wine_pred, label_test)}\")\n",
    "#feature name\n",
    "print(wine.feature_names)\n",
    "#feature importance\n",
    "print(RFC.feature_importances_)"
   ]
  },
  {
   "cell_type": "code",
   "execution_count": null,
   "metadata": {},
   "outputs": [],
   "source": []
  }
 ],
 "metadata": {
  "kernelspec": {
   "display_name": "Python 3",
   "language": "python",
   "name": "python3"
  },
  "language_info": {
   "codemirror_mode": {
    "name": "ipython",
    "version": 3
   },
   "file_extension": ".py",
   "mimetype": "text/x-python",
   "name": "python",
   "nbconvert_exporter": "python",
   "pygments_lexer": "ipython3",
   "version": "3.7.4-final"
  }
 },
 "nbformat": 4,
 "nbformat_minor": 2
}