{
 "cells": [
  {
   "cell_type": "markdown",
   "metadata": {},
   "source": [
    "## [作業重點]\n",
    "了解如何使用 Sklearn 中的 hyper-parameter search 找出最佳的超參數"
   ]
  },
  {
   "cell_type": "markdown",
   "metadata": {},
   "source": [
    "### 作業\n",
    "請使用不同的資料集，並使用 hyper-parameter search 的方式，看能不能找出最佳的超參數組合"
   ]
  },
  {
   "cell_type": "code",
   "execution_count": 14,
   "metadata": {},
   "outputs": [],
   "source": [
    "from sklearn import datasets, metrics\n",
    "from sklearn.model_selection import train_test_split, KFold, GridSearchCV\n",
    "from sklearn.ensemble import GradientBoostingClassifier"
   ]
  },
  {
   "cell_type": "code",
   "execution_count": 15,
   "metadata": {},
   "outputs": [
    {
     "output_type": "stream",
     "name": "stdout",
     "text": "Accuracy : 0.9444444444444444\n"
    }
   ],
   "source": [
    "#Load and return the wine dataset (classification).\n",
    "wine = datasets.load_wine()\n",
    "#split\n",
    "fea_train, fea_test, label_train, label_test = train_test_split(wine.data, wine.target, test_size = 0.1, random_state=1)\n",
    "#create model\n",
    "gbc = GradientBoostingClassifier()\n",
    "#train model\n",
    "gbc.fit(fea_train, label_train)\n",
    "#pred\n",
    "org_pred = gbc.predict(fea_test)\n",
    "#accuracy\n",
    "print(f\"Accuracy : {metrics.accuracy_score(org_pred, label_test)}\")"
   ]
  },
  {
   "cell_type": "code",
   "execution_count": 16,
   "metadata": {},
   "outputs": [
    {
     "output_type": "stream",
     "name": "stdout",
     "text": "Fitting 3 folds for each of 9 candidates, totalling 27 fits\n[Parallel(n_jobs=-1)]: Using backend LokyBackend with 8 concurrent workers.\n[Parallel(n_jobs=-1)]: Done  12 out of  27 | elapsed:    0.6s remaining:    0.7s\n[Parallel(n_jobs=-1)]: Done  27 out of  27 | elapsed:    1.3s finished\n"
    }
   ],
   "source": [
    "# 設定要訓練的超參數組合\n",
    "n_estimators = [100, 200, 300]\n",
    "max_depth = [1, 3, 5]\n",
    "param_grid = dict(n_estimators=n_estimators, max_depth=max_depth)\n",
    "\n",
    "## 建立搜尋物件，放入模型gbc及參數組合字典param_grid (n_jobs=-1 會使用全部 cpu 平行運算)\n",
    "\"\"\"\n",
    "class GridSearchCV(estimator, param_grid, scoring=None, n_jobs=None, iid='warn', refit=True, cv='warn', verbose=0, pre_dispatch='2*n_jobs', error_score='raise-deprecating', return_train_score=False)\n",
    "Exhaustive search over specified parameter values for an estimator.\n",
    "\n",
    "Important members are fit, predict.\n",
    "\n",
    "GridSearchCV implements a \"fit\" and a \"score\" method. It also implements \"predict\", \"predict_proba\", \"decision_function\", \"transform\" and \"inverse_transform\" if they are implemented in the estimator used.\n",
    "\n",
    "The parameters of the estimator used to apply these methods are optimized by cross-validated grid-search over a parameter grid.\n",
    "\"\"\"\n",
    "para_search = GridSearchCV(gbc, param_grid, n_jobs=-1, verbose=1)\n",
    "# 開始搜尋最佳參數\n",
    "grid_result = para_search.fit(fea_train, label_train)\n",
    "# PS.預設會跑 3-fold cross-validadtion，總共 9 種參數組合，總共要 train 27 次模型"
   ]
  },
  {
   "cell_type": "code",
   "execution_count": 17,
   "metadata": {},
   "outputs": [
    {
     "output_type": "stream",
     "name": "stdout",
     "text": "Best accuracy : 0.98125, by using parameters : {'max_depth': 1, 'n_estimators': 300}\n"
    }
   ],
   "source": [
    "# 印出最佳結果與最佳參數\n",
    "print(f\"Best accuracy : {grid_result.best_score_}, by using parameters : {grid_result.best_params_}\")"
   ]
  },
  {
   "cell_type": "code",
   "execution_count": 19,
   "metadata": {},
   "outputs": [
    {
     "output_type": "stream",
     "name": "stdout",
     "text": "Accuracy : 1.0\n"
    }
   ],
   "source": [
    "#using best parameters to create new model \n",
    "gbc_bestpara = GradientBoostingClassifier(n_estimators=grid_result.best_params_['n_estimators'], max_depth=grid_result.best_params_['max_depth'])\n",
    "#train model\n",
    "gbc_bestpara.fit(fea_train, label_train)\n",
    "#pred\n",
    "bestpara_pred = gbc_bestpara.predict(fea_test)\n",
    "#accuracy\n",
    "print(f\"Accuracy : {metrics.accuracy_score(bestpara_pred, label_test)}\")"
   ]
  },
  {
   "cell_type": "code",
   "execution_count": null,
   "metadata": {},
   "outputs": [],
   "source": []
  }
 ],
 "metadata": {
  "kernelspec": {
   "display_name": "Python 3",
   "language": "python",
   "name": "python3"
  },
  "language_info": {
   "codemirror_mode": {
    "name": "ipython",
    "version": 3
   },
   "file_extension": ".py",
   "mimetype": "text/x-python",
   "name": "python",
   "nbconvert_exporter": "python",
   "pygments_lexer": "ipython3",
   "version": "3.7.4-final"
  }
 },
 "nbformat": 4,
 "nbformat_minor": 2
}