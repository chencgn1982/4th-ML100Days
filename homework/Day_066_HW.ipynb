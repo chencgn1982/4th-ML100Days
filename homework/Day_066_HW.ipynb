{
  "nbformat": 4,
  "nbformat_minor": 0,
  "metadata": {
    "kernelspec": {
      "display_name": "Python 3",
      "language": "python",
      "name": "python3"
    },
    "language_info": {
      "codemirror_mode": {
        "name": "ipython",
        "version": 3
      },
      "file_extension": ".py",
      "mimetype": "text/x-python",
      "name": "python",
      "nbconvert_exporter": "python",
      "pygments_lexer": "ipython3",
      "version": "3.7.0"
    },
    "colab": {
      "name": "Day_066_HW.ipynb",
      "provenance": [],
      "toc_visible": true
    }
  },
  "cells": [
    {
      "cell_type": "code",
      "metadata": {
        "id": "ZWF5EFWsSiSe",
        "colab_type": "code",
        "colab": {
          "base_uri": "https://localhost:8080/",
          "height": 55
        },
        "outputId": "c1f73649-4a11-476a-f519-59cb80d5d22e"
      },
      "source": [
        "from keras.utils import multi_gpu_model\n",
        "from keras.models import Model\n",
        "from keras.layers import Input, Dense\n",
        "\n",
        "\n",
        "a = Input(shape=(32,))\n",
        "b = Dense(32)(a)\n",
        "model = Model(inputs=a, outputs=b)\n",
        "\n",
        "config = model.get_config()\n",
        "print(config)"
      ],
      "execution_count": 6,
      "outputs": [
        {
          "output_type": "stream",
          "text": [
            "{'name': 'model_2', 'layers': [{'name': 'input_2', 'class_name': 'InputLayer', 'config': {'batch_input_shape': (None, 32), 'dtype': 'float32', 'sparse': False, 'name': 'input_2'}, 'inbound_nodes': []}, {'name': 'dense_2', 'class_name': 'Dense', 'config': {'name': 'dense_2', 'trainable': True, 'dtype': 'float32', 'units': 32, 'activation': 'linear', 'use_bias': True, 'kernel_initializer': {'class_name': 'VarianceScaling', 'config': {'scale': 1.0, 'mode': 'fan_avg', 'distribution': 'uniform', 'seed': None}}, 'bias_initializer': {'class_name': 'Zeros', 'config': {}}, 'kernel_regularizer': None, 'bias_regularizer': None, 'activity_regularizer': None, 'kernel_constraint': None, 'bias_constraint': None}, 'inbound_nodes': [[['input_2', 0, 0, {}]]]}], 'input_layers': [['input_2', 0, 0]], 'output_layers': [['dense_2', 0, 0]]}\n"
          ],
          "name": "stdout"
        }
      ]
    },
    {
      "cell_type": "code",
      "metadata": {
        "id": "G_2O74mMSiSi",
        "colab_type": "code",
        "colab": {
          "base_uri": "https://localhost:8080/",
          "height": 225
        },
        "outputId": "eb8799b9-112a-4ab7-89f8-dcba9dda75cf"
      },
      "source": [
        "model.summary()"
      ],
      "execution_count": 7,
      "outputs": [
        {
          "output_type": "stream",
          "text": [
            "Model: \"model_2\"\n",
            "_________________________________________________________________\n",
            "Layer (type)                 Output Shape              Param #   \n",
            "=================================================================\n",
            "input_2 (InputLayer)         (None, 32)                0         \n",
            "_________________________________________________________________\n",
            "dense_2 (Dense)              (None, 32)                1056      \n",
            "=================================================================\n",
            "Total params: 1,056\n",
            "Trainable params: 1,056\n",
            "Non-trainable params: 0\n",
            "_________________________________________________________________\n"
          ],
          "name": "stdout"
        }
      ]
    },
    {
      "cell_type": "markdown",
      "metadata": {
        "id": "PHRn7umTSiSl",
        "colab_type": "text"
      },
      "source": [
        "# 作業:\n",
        "    檢查 backend\n",
        "    檢查 fuzz factor\n",
        "    設定 Keras 浮點運算為float16"
      ]
    },
    {
      "cell_type": "code",
      "metadata": {
        "id": "C_WCJWWqSiSm",
        "colab_type": "code",
        "colab": {
          "base_uri": "https://localhost:8080/",
          "height": 35
        },
        "outputId": "d9bd346f-23b7-4922-e8a0-a9539e97fe87"
      },
      "source": [
        "import keras\n",
        "from keras import backend as K\n",
        "\n",
        "#檢查 backend\n",
        "keras.backend.backend()"
      ],
      "execution_count": 8,
      "outputs": [
        {
          "output_type": "execute_result",
          "data": {
            "text/plain": [
              "'tensorflow'"
            ]
          },
          "metadata": {
            "tags": []
          },
          "execution_count": 8
        }
      ]
    },
    {
      "cell_type": "code",
      "metadata": {
        "id": "LPD6xaD6SiSo",
        "colab_type": "code",
        "colab": {
          "base_uri": "https://localhost:8080/",
          "height": 35
        },
        "outputId": "cfadb28f-4bfc-484b-de21-25c51cbb7a8e"
      },
      "source": [
        "#檢查 fuzz factor\n",
        "keras.backend.epsilon()\n",
        "\n",
        "\n",
        "# fuzz factor\n",
        "# 數值表達式中使用的模糊因子。 \n",
        "# 此功能是一組Keras後端功能的一部分，可以對後端張量引擎（例如TensorFlow，CNTK，Theano等）的核心操作進行更低級別的訪問。\n",
        "\n"
      ],
      "execution_count": 13,
      "outputs": [
        {
          "output_type": "execute_result",
          "data": {
            "text/plain": [
              "1e-07"
            ]
          },
          "metadata": {
            "tags": []
          },
          "execution_count": 13
        }
      ]
    },
    {
      "cell_type": "code",
      "metadata": {
        "id": "RZvvMpA8SiSr",
        "colab_type": "code",
        "colab": {
          "base_uri": "https://localhost:8080/",
          "height": 35
        },
        "outputId": "eeea25c7-931e-48e6-f462-2deb7e7bb124"
      },
      "source": [
        "#設定 Keras 浮點運算為float16\n",
        "K.set_floatx('float16')\n",
        "K.floatx()"
      ],
      "execution_count": 10,
      "outputs": [
        {
          "output_type": "execute_result",
          "data": {
            "text/plain": [
              "'float16'"
            ]
          },
          "metadata": {
            "tags": []
          },
          "execution_count": 10
        }
      ]
    }
  ]
}