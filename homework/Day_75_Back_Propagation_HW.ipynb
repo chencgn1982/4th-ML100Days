{
  "nbformat": 4,
  "nbformat_minor": 0,
  "metadata": {
    "kernelspec": {
      "display_name": "Python 3",
      "language": "python",
      "name": "python3"
    },
    "language_info": {
      "codemirror_mode": {
        "name": "ipython",
        "version": 3
      },
      "file_extension": ".py",
      "mimetype": "text/x-python",
      "name": "python",
      "nbconvert_exporter": "python",
      "pygments_lexer": "ipython3",
      "version": "3.7.0"
    },
    "colab": {
      "name": "Day75-Back_Propagation_HW.ipynb",
      "provenance": [],
      "collapsed_sections": [],
      "include_colab_link": true
    }
  },
  "cells": [
    {
      "cell_type": "markdown",
      "metadata": {
        "id": "view-in-github",
        "colab_type": "text"
      },
      "source": [
        "<a href=\"https://colab.research.google.com/github/chencgn1982/4th-ML100Days/blob/master/homework/Day_75_Back_Propagation_HW.ipynb\" target=\"_parent\"><img src=\"https://colab.research.google.com/assets/colab-badge.svg\" alt=\"Open In Colab\"/></a>"
      ]
    },
    {
      "cell_type": "markdown",
      "metadata": {
        "id": "ddAUA82N6LD3",
        "colab_type": "text"
      },
      "source": [
        "# 作業目標:\n",
        "\n",
        "    通過建立多層的神經網路, 了解權值矩陣更新"
      ]
    },
    {
      "cell_type": "markdown",
      "metadata": {
        "id": "a6bqJQdi6LD7",
        "colab_type": "text"
      },
      "source": [
        "# 作業重點: \n",
        "\n",
        "3  層神經網路\n",
        "\n",
        "通過增加更多的中間層，以對更多關係的組合進行建模\n",
        "\n",
        "syn1 權值矩陣將隱層的組合輸出映射到最終結果，\n",
        "\n",
        "而在更新 syn1 的同時，還需要更新 syn0 權值矩陣，\n",
        "\n",
        "以從輸入資料中更好地產生這些組合"
      ]
    },
    {
      "cell_type": "code",
      "metadata": {
        "id": "ckdNTEWI6LD9",
        "colab_type": "code",
        "colab": {
          "base_uri": "https://localhost:8080/",
          "height": 53
        },
        "outputId": "d207f13f-047d-4a10-9403-5dcd2b4dfecf"
      },
      "source": [
        "import numpy as np\n",
        " \n",
        "# Sigmoid 函數可以將任何值都映射到一個位於 0 到  1 範圍內的值。通過它，我們可以將實數轉化為概率值\n",
        "'''\n",
        "定義數學函數:\n",
        "y=f(x) = 1/(1+np.exp(-x));\n",
        "dy/dx = df = y*(1-y) \n",
        "\n",
        "為了計算方便, 這邊把 y=f(x) 與 dy/dx 放在同一function 裡面;\n",
        "利用 deriv (derivative)做變數, 來分別指定方程式\n",
        "\n",
        "'''\n",
        "def nonlin(x,deriv=False):\n",
        "    if(deriv==True):\n",
        "        return x*(1-x)\n",
        "    return 1/(1+np.exp(-x))\n",
        "'''\n",
        "通過 “nonlin” 函數體還能得到 sigmod 函數的導數（當 deriv 為 True 時）。\n",
        "Sigmoid 函數優異特性之一，在於只用它的輸出值便可以得到其導數值。\n",
        "若 Sigmoid 的輸出值用變數 out 表示，則其導數值可簡單通過式子 out *(1-out) \n",
        "'''\n",
        "\n",
        "'''\n",
        "input dataset\n",
        "輸入資料集初始化為 numpy 中的矩陣。每一 column 為一個“訓練實例”，\n",
        "每一 row 的對應著一個輸入節點。這樣，我們的神經網路便有 3 個輸入節點，\n",
        "4 個訓練實例。\n",
        "'''\n",
        "X = np.array([  [0,0,1],\n",
        "                [0,1,1],\n",
        "                [1,0,1],\n",
        "                [1,1,1] ])  \n",
        "        \n",
        "# define y for output dataset            \n",
        "y = np.array([[0,0,1,1]]).T\n",
        "\n",
        "'''\n",
        "輸出資料集進行初始化\n",
        ".T” 為轉置函數。經轉置後，該  y  矩陣便包含 4 column 1 row。\n",
        "同我們的輸入一致，每一 column 是一個訓練實例，而每一row（僅有一row）對應一個輸出節點。\n",
        "因此，我們的網路含有 3 個輸入， 1 個輸出\n",
        "'''\n"
      ],
      "execution_count": 1,
      "outputs": [
        {
          "output_type": "execute_result",
          "data": {
            "application/vnd.google.colaboratory.intrinsic": {
              "type": "string"
            },
            "text/plain": [
              "'\\n輸出資料集進行初始化\\n.T” 為轉置函數。經轉置後，該  y  矩陣便包含 4 column 1 row。\\n同我們的輸入一致，每一 column 是一個訓練實例，而每一row（僅有一row）對應一個輸出節點。\\n因此，我們的網路含有 3 個輸入， 1 個輸出\\n'"
            ]
          },
          "metadata": {
            "tags": []
          },
          "execution_count": 1
        }
      ]
    },
    {
      "cell_type": "code",
      "metadata": {
        "id": "eYTVMXwQ6LEJ",
        "colab_type": "code",
        "colab": {}
      },
      "source": [
        "\n",
        "# seed random numbers to make calculation\n",
        "# deterministic (just a good practice)\n",
        "np.random.seed(1)\n",
        "#亂數設定產生種子得到的權重初始化集仍是隨機分佈的，\n",
        "#但每次開始訓練時，得到的權重初始集分佈都是完全一致的。\n",
        " \n",
        "# initialize weights randomly with mean 0\n",
        "syn0 = 2*np.random.random((3,3)) - 1\n",
        "# define syn1\n",
        "syn1 = 2*np.random.random((3,1)) - 1\n",
        "iter = 0\n",
        "#該神經網路權重矩陣的初始化操作。\n",
        "#用 “syn0” 來代指 (即“輸入層-第一層隱層”間權重矩陣）\n",
        "#用 “syn1” 來代指 (即“輸入層-第二層隱層”間權重矩陣）\n",
        "\n"
      ],
      "execution_count": 2,
      "outputs": []
    },
    {
      "cell_type": "code",
      "metadata": {
        "id": "Ki0NUXBh0NQ8",
        "colab_type": "code",
        "colab": {
          "base_uri": "https://localhost:8080/",
          "height": 156
        },
        "outputId": "91e8e6cc-00ea-4839-e264-80f4ac2aad75"
      },
      "source": [
        "print(syn0)\n",
        "print(\"\\n\")\n",
        "print(syn1)"
      ],
      "execution_count": 3,
      "outputs": [
        {
          "output_type": "stream",
          "text": [
            "[[-0.16595599  0.44064899 -0.99977125]\n",
            " [-0.39533485 -0.70648822 -0.81532281]\n",
            " [-0.62747958 -0.30887855 -0.20646505]]\n",
            "\n",
            "\n",
            "[[ 0.07763347]\n",
            " [-0.16161097]\n",
            " [ 0.370439  ]]\n"
          ],
          "name": "stdout"
        }
      ]
    },
    {
      "cell_type": "markdown",
      "metadata": {
        "id": "oPdzfV5m6LER",
        "colab_type": "text"
      },
      "source": [
        "神經網路訓練\n",
        "for 迴圈反覆運算式地多次執行訓練代碼，使得我們的網路能更好地擬合訓練集"
      ]
    },
    {
      "cell_type": "code",
      "metadata": {
        "id": "OXyVV0WX6LET",
        "colab_type": "code",
        "colab": {
          "base_uri": "https://localhost:8080/",
          "height": 277
        },
        "outputId": "64629a7e-428c-4028-a5e1-8284e865a751"
      },
      "source": [
        "for iter in range(10000):\n",
        "    # forward propagation\n",
        "    l0 = X\n",
        "    l1 = nonlin(np.dot(l0,syn0))\n",
        "    l2 = nonlin(np.dot(l1, syn1))\n",
        "    \n",
        "    '''\n",
        "    新增\n",
        "    l2_error 該值說明了神經網路預測時“丟失”的數目。\n",
        "    l2_delta 該值為經確信度加權後的神經網路的誤差，除了確信誤差很小時，它近似等於預測誤差。\n",
        "    '''\n",
        "    '''\n",
        "    首先讓網路基於給定輸入“試著”去預測輸出。\n",
        "    以至於作出一些調整，使得在每次反覆運算過程中網路能夠表現地更好一點。\n",
        "    (4 x 3) dot (3 x 1) = (4 x 1)\n",
        "    此 column 代碼包含兩個步驟。首先，將 l0 與 syn0 進行矩陣相乘。\n",
        "    然後，將計算結果傳遞給 sigmoid 函數。具體考慮到各個矩陣的維度：\n",
        "    (4 x 3) dot (3 x 1) = (4 x 1)\n",
        "    '''\n",
        "    # how much did we miss?\n",
        "    l2_error = y - l2\n",
        " \n",
        "    # multiply how much we missed by the \n",
        "    # slope of the sigmoid at the values in l1\n",
        "    \n",
        "    l2_delta = l2_error * nonlin(l2, True)\n",
        "    l1_error = l2_delta.dot(syn1.T)\n",
        "    l1_delta = l1_error * nonlin(l1,deriv=True)\n",
        "    # update weights\n",
        "    syn0 += np.dot(l0.T,l1_delta)\n",
        "    # syn1 update weights\n",
        "    syn1 += np.dot(l1.T, l2_delta)\n",
        "print(\"Output After Training:\")\n",
        "print(\"\\n\\n\")\n",
        "print(l1)\n",
        "print(\"\\n\\n\")\n",
        "print(f\"l2:{l2}\")"
      ],
      "execution_count": 4,
      "outputs": [
        {
          "output_type": "stream",
          "text": [
            "Output After Training:\n",
            "\n",
            "\n",
            "\n",
            "[[0.42292664 0.15918164 0.88412185]\n",
            " [0.34067016 0.11673237 0.88592395]\n",
            " [0.17663051 0.94338485 0.0601209 ]\n",
            " [0.13137182 0.92083766 0.06112946]]\n",
            "\n",
            "\n",
            "\n",
            "l2:[[0.00553403]\n",
            " [0.00466934]\n",
            " [0.99462291]\n",
            " [0.99412493]]\n"
          ],
          "name": "stdout"
        }
      ]
    },
    {
      "cell_type": "code",
      "metadata": {
        "id": "rexVBaR16LEc",
        "colab_type": "code",
        "colab": {}
      },
      "source": [
        ""
      ],
      "execution_count": 4,
      "outputs": []
    }
  ]
}