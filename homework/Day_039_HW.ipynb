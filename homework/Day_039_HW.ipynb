{
 "cells": [
  {
   "cell_type": "markdown",
   "metadata": {},
   "source": [
    "## [作業重點]\n",
    "清楚了解 L1, L2 的意義與差異為何，並了解 LASSO 與 Ridge 之間的差異與使用情境"
   ]
  },
  {
   "cell_type": "markdown",
   "metadata": {},
   "source": [
    "## 作業"
   ]
  },
  {
   "cell_type": "markdown",
   "metadata": {},
   "source": [
    "請閱讀相關文獻，並回答下列問題\n",
    "\n",
    "[脊回歸 (Ridge Regression)](https://blog.csdn.net/daunxx/article/details/51578787)\n",
    "[Linear, Ridge, Lasso Regression 本質區別](https://www.zhihu.com/question/38121173)\n",
    "\n",
    "1. LASSO 回歸可以被用來作為 Feature selection 的工具，請了解 LASSO 模型為什麼可用來作 Feature selection  \n",
    "Ans : 模型的優化過程是以參數稀疏化為目標在訓練，因此最終模型會將某些特徵的權重變成 0，達到了特徵選取的效果。    \n",
    "2. 當自變數 (X) 存在高度共線性時，Ridge Regression 可以處理這樣的問題嗎?  \n",
    "Ans :   \n",
    "Ridge Regression的提出就是為了解決多共重線性(multi-colinearity)問題，加上一個L2懲罰項也是因為算起來方便。而它並不能將參數縮小到0,所以沒法做變量選擇。  \n",
    "LASSO是針對Ridge Regression的沒法做Feature selection的問題提出來的，L1懲罰雖然算起來麻煩，沒有解析解，但是可以把某些係數縮小到0。"
   ]
  },
  {
   "cell_type": "markdown",
   "metadata": {},
   "source": [
    "＃共線性是什麼？ 轉貼自問答區  \n",
    "舉個例子來說 : 體重常聽到有兩種度量衡 - 公斤與英鎊  \n",
    "我們要用模型衡量一個人的健康程度, 很明顯體重會是一個重要特徵  \n",
    "\n",
    "但是如果同時有\"公斤\"與\"英鎊\"兩種特徵時  \n",
    "因為兩者間存在線性關係 (轉換只差一個倍數),   \n",
    "只用相關係數這類方式篩選, 兩個特徵都會通過篩選  \n",
    "\n",
    "這時候篩選通過的特徵拿來做線性回歸時,   \n",
    "體重重要性就會增加到兩倍(因為特徵中占據兩個名額)  \n",
    "這樣模型估計就會有偏誤  \n",
    "(體重很重要, 但只該留下一個就好)  \n",
    "\n",
    "共線性大致講的是上述這種情況,   \n",
    "但是即使不是完全線性, 而是相關度很高, 也會影響很大"
   ]
  }
 ],
 "metadata": {
  "kernelspec": {
   "display_name": "Python 3",
   "language": "python",
   "name": "python3"
  },
  "language_info": {
   "codemirror_mode": {
    "name": "ipython",
    "version": 3
   },
   "file_extension": ".py",
   "mimetype": "text/x-python",
   "name": "python",
   "nbconvert_exporter": "python",
   "pygments_lexer": "ipython3",
   "version": "3.6.2"
  }
 },
 "nbformat": 4,
 "nbformat_minor": 2
}