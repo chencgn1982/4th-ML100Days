{
 "cells": [
  {
   "cell_type": "markdown",
   "metadata": {},
   "source": [],
   "execution_count": null,
   "outputs": []
  },
  {
   "cell_type": "markdown",
   "metadata": {},
   "source": [
    "D48 data-science-london-scikit-learn  \n",
    "透過 Kaggle 的實戰練習，把資料下載下來，自己做訓練集/測試集的切分，送進模型訓練，評估結果，再把測試集的答案上傳到 Kaggle 得到最終成績。  \n",
    "\n",
    "請完成 [scikit-learn-practice](https://www.kaggle.com/c/data-science-london-scikit-learn) 比賽(點擊連結可至競賽頁面)，讓大家熟悉 Scikit-learn 的比賽  \n",
    "\n",
    "i.總共有一千筆訓練資料、40個 features，二元分類問題，練習 features scaling、建模、調參數等步驟  \n",
    "ii.每天最多上傳 10 次結果  \n",
    "iii.請在 private / public leaderboard 上取得 0.7 以上的準確率  \n",
    "iv.可多參考別人的 Kernel，學習別人的寫法與思路，完成自己的 Kaggle 競賽  "
   ],
   "execution_count": null,
   "outputs": []
  },
  {
   "cell_type": "code",
   "execution_count": 19,
   "metadata": {},
   "outputs": [],
   "source": [
    "import numpy as np \n",
    "import pandas as pd \n",
    "from sklearn.metrics import accuracy_score\n",
    "from sklearn.model_selection import train_test_split, KFold, GridSearchCV\n",
    "from sklearn.ensemble import GradientBoostingClassifier"
   ]
  },
  {
   "cell_type": "code",
   "execution_count": 20,
   "metadata": {},
   "outputs": [],
   "source": [
    "data_path = 'data-science-london-scikit-learn/'\n",
    "test = pd.read_csv(data_path + \"test.csv\",header=None)\n",
    "fea_all = pd.read_csv(data_path + \"train.csv\",header=None)\n",
    "label_all = pd.read_csv(data_path + \"trainLabels.csv\",header=None)"
   ]
  },
  {
   "cell_type": "code",
   "execution_count": 21,
   "metadata": {},
   "outputs": [
    {
     "output_type": "stream",
     "name": "stdout",
     "text": "Accuracy : 0.95\n"
    }
   ],
   "source": [
    "fea_train, fea_test, label_train, label_test = train_test_split(fea_all, label_all, test_size=0.1, random_state=1)\n",
    "gbc = GradientBoostingClassifier()\n",
    "gbc.fit(fea_train, label_train)\n",
    "#pred\n",
    "org_pred = gbc.predict(fea_test)\n",
    "#accuracy\n",
    "print(f\"Accuracy : {accuracy_score(org_pred, label_test)}\")"
   ]
  },
  {
   "cell_type": "code",
   "execution_count": 22,
   "metadata": {},
   "outputs": [
    {
     "output_type": "stream",
     "name": "stdout",
     "text": "Fitting 3 folds for each of 9 candidates, totalling 27 fits\n[Parallel(n_jobs=-1)]: Using backend LokyBackend with 8 concurrent workers.\n[Parallel(n_jobs=-1)]: Done  27 out of  27 | elapsed:    4.9s finished\nBest accuracy : 0.8677777777777778, by using parameters : {'max_depth': 5, 'n_estimators': 200}\n"
    }
   ],
   "source": [
    "#dict of hyper-parameter\n",
    "n_estimators = [100, 200, 300]\n",
    "max_depth = [1, 3, 5]\n",
    "param_grid = dict(n_estimators=n_estimators, max_depth=max_depth)\n",
    "\n",
    "#search best parameter\n",
    "#create search object\n",
    "para_search = GridSearchCV(gbc, param_grid, n_jobs=-1, verbose=1)\n",
    "#start search\n",
    "search_result = para_search.fit(fea_train, label_train)\n",
    "print(f\"Best accuracy : {search_result.best_score_}, by using parameters : {search_result.best_params_}\")"
   ]
  },
  {
   "cell_type": "code",
   "execution_count": 23,
   "metadata": {},
   "outputs": [
    {
     "output_type": "stream",
     "name": "stdout",
     "text": "Accuracy : 0.96\n"
    }
   ],
   "source": [
    "gbc_bestpara = GradientBoostingClassifier(n_estimators=search_result.best_params_['n_estimators'], max_depth=search_result.best_params_['max_depth'])\n",
    "#train model\n",
    "gbc_bestpara.fit(fea_train, label_train)\n",
    "#pred\n",
    "bestpara_pred = gbc_bestpara.predict(fea_test)\n",
    "#accuracy\n",
    "print(f\"Accuracy : {accuracy_score(bestpara_pred, label_test)}\")"
   ]
  },
  {
   "cell_type": "code",
   "execution_count": 24,
   "metadata": {},
   "outputs": [],
   "source": [
    "#train model with all train data\n",
    "gbc_bestpara.fit(fea_all, label_all)\n",
    "test_pred = gbc_bestpara.predict(test)"
   ]
  },
  {
   "cell_type": "code",
   "execution_count": 27,
   "metadata": {},
   "outputs": [
    {
     "output_type": "execute_result",
     "data": {
      "text/plain": "(9000,)"
     },
     "metadata": {},
     "execution_count": 27
    }
   ],
   "source": [
    "test_pred.shape"
   ]
  },
  {
   "cell_type": "code",
   "execution_count": 38,
   "metadata": {},
   "outputs": [
    {
     "output_type": "execute_result",
     "data": {
      "text/plain": "   Id  Solution\n0   1         1\n1   2         0\n2   3         1\n3   4         0\n4   5         0",
      "text/html": "<div>\n<style scoped>\n    .dataframe tbody tr th:only-of-type {\n        vertical-align: middle;\n    }\n\n    .dataframe tbody tr th {\n        vertical-align: top;\n    }\n\n    .dataframe thead th {\n        text-align: right;\n    }\n</style>\n<table border=\"1\" class=\"dataframe\">\n  <thead>\n    <tr style=\"text-align: right;\">\n      <th></th>\n      <th>Id</th>\n      <th>Solution</th>\n    </tr>\n  </thead>\n  <tbody>\n    <tr>\n      <td>0</td>\n      <td>1</td>\n      <td>1</td>\n    </tr>\n    <tr>\n      <td>1</td>\n      <td>2</td>\n      <td>0</td>\n    </tr>\n    <tr>\n      <td>2</td>\n      <td>3</td>\n      <td>1</td>\n    </tr>\n    <tr>\n      <td>3</td>\n      <td>4</td>\n      <td>0</td>\n    </tr>\n    <tr>\n      <td>4</td>\n      <td>5</td>\n      <td>0</td>\n    </tr>\n  </tbody>\n</table>\n</div>"
     },
     "metadata": {},
     "execution_count": 38
    }
   ],
   "source": [
    "submit = pd.DataFrame(test_pred)\n",
    "submit.columns = [\"Solution\"] #column name = Solution\n",
    "submit[\"Id\"] = np.arange(1, submit.shape[0]+1) #add column \"Id\"\n",
    "submit = submit[[\"Id\", \"Solution\"]] #move Column \"Id\" to 1st col\n",
    "submit.head()"
   ]
  },
  {
   "cell_type": "code",
   "execution_count": 39,
   "metadata": {},
   "outputs": [],
   "source": [
    "submit.to_csv(\"London.csv\", index=False)"
   ]
  },
  {
   "cell_type": "code",
   "execution_count": null,
   "metadata": {},
   "outputs": [],
   "source": []
  }
 ],
 "metadata": {
  "kernelspec": {
   "display_name": "Python 3",
   "language": "python",
   "name": "python3"
  },
  "language_info": {
   "codemirror_mode": {
    "name": "ipython",
    "version": 3
   },
   "file_extension": ".py",
   "mimetype": "text/x-python",
   "name": "python",
   "nbconvert_exporter": "python",
   "pygments_lexer": "ipython3",
   "version": "3.7.4-final"
  }
 },
 "nbformat": 4,
 "nbformat_minor": 2
}