{
  "nbformat": 4,
  "nbformat_minor": 0,
  "metadata": {
    "kernelspec": {
      "display_name": "Python 3.7.0 64-bit",
      "language": "python",
      "name": "python_defaultSpec_1595997412783"
    },
    "language_info": {
      "codemirror_mode": {
        "name": "ipython",
        "version": 3
      },
      "file_extension": ".py",
      "mimetype": "text/x-python",
      "name": "python",
      "nbconvert_exporter": "python",
      "pygments_lexer": "ipython3",
      "version": "3.6.5"
    },
    "colab": {
      "name": "Day078_HW.ipynb",
      "provenance": []
    }
  },
  "cells": [
    {
      "cell_type": "markdown",
      "metadata": {
        "id": "2prDw3puNIfI",
        "colab_type": "text"
      },
      "source": [
        "## Work\n",
        "1. 請嘗試將 preproc_x 替換成以每筆資料的 min/max 進行標準化至 -1 ~ 1 間，再進行訓練\n",
        "2. 請嘗試將 mlp 疊更深 (e.g 5~10 層)，進行訓練後觀察 learning curve 的走勢\n",
        "3. (optional) 請改用 GPU 進行訓練 (如果你有 GPU 的話)，比較使用 CPU 與 GPU 的訓練速度"
      ]
    },
    {
      "cell_type": "code",
      "metadata": {
        "id": "qdo56LQyNIfJ",
        "colab_type": "code",
        "colab": {
          "base_uri": "https://localhost:8080/",
          "height": 35
        },
        "outputId": "49603c17-e4ca-4509-b6c4-d171e490801d"
      },
      "source": [
        "## \n",
        "\"\"\"\n",
        "Your code here (optional)\n",
        "確認硬體資源\n",
        "\"\"\"\n"
      ],
      "execution_count": 1,
      "outputs": [
        {
          "output_type": "execute_result",
          "data": {
            "application/vnd.google.colaboratory.intrinsic+json": {
              "type": "string"
            },
            "text/plain": [
              "'\\nYour code here (optional)\\n確認硬體資源\\n'"
            ]
          },
          "metadata": {
            "tags": []
          },
          "execution_count": 1
        }
      ]
    },
    {
      "cell_type": "code",
      "metadata": {
        "id": "2D-kDqRONIfN",
        "colab_type": "code",
        "colab": {
          "base_uri": "https://localhost:8080/",
          "height": 35
        },
        "outputId": "dd7e977c-2e3c-45c7-8f03-af59e3b33644"
      },
      "source": [
        "import os\n",
        "import keras\n",
        "\n",
        "# 請嘗試設定 GPU：os.environ\n"
      ],
      "execution_count": 2,
      "outputs": [
        {
          "output_type": "stream",
          "text": [
            "Using TensorFlow backend.\n"
          ],
          "name": "stderr"
        }
      ]
    },
    {
      "cell_type": "code",
      "metadata": {
        "id": "m-vBEEZ3NIfP",
        "colab_type": "code",
        "colab": {}
      },
      "source": [
        "train, test = keras.datasets.cifar10.load_data()"
      ],
      "execution_count": 3,
      "outputs": []
    },
    {
      "cell_type": "code",
      "metadata": {
        "id": "60OEA3pyNIfT",
        "colab_type": "code",
        "colab": {}
      },
      "source": [
        "import numpy as np\n",
        "## 資料前處理\n",
        "\"\"\"\n",
        "Your code here\n",
        "\"\"\"\n",
        "def preproc_x(x, flatten=True):\n",
        "    print(f'min x :{x.min()}')\n",
        "    print(f'max x :{x.max()}')\n",
        "    x = x / x.max()\n",
        "    if flatten:\n",
        "        x = x.reshape((len(x), -1))\n",
        "    return x\n",
        "\n",
        "def preproc_y(y, num_classes=10):\n",
        "    if y.shape[-1] == 1:\n",
        "        y = keras.utils.to_categorical(y, num_classes)\n",
        "    return y"
      ],
      "execution_count": 4,
      "outputs": []
    },
    {
      "cell_type": "code",
      "metadata": {
        "tags": [],
        "id": "GpECzlZkNIfV",
        "colab_type": "code",
        "colab": {
          "base_uri": "https://localhost:8080/",
          "height": 87
        },
        "outputId": "70d38864-2f8b-4e12-c145-5889bfb6d09b"
      },
      "source": [
        "x_train, y_train = train\n",
        "x_test, y_test = test\n",
        "\n",
        "# Preproc the inputs\n",
        "x_train = preproc_x(x_train)\n",
        "x_test = preproc_x(x_test)\n",
        "\n",
        "# Preprc the outputs\n",
        "y_train = preproc_y(y_train)\n",
        "y_test = preproc_y(y_test)"
      ],
      "execution_count": 5,
      "outputs": [
        {
          "output_type": "stream",
          "text": [
            "min x :0\n",
            "max x :255\n",
            "min x :0\n",
            "max x :255\n"
          ],
          "name": "stdout"
        }
      ]
    },
    {
      "cell_type": "code",
      "metadata": {
        "tags": [],
        "id": "tbq8IZYQNIfX",
        "colab_type": "code",
        "colab": {
          "base_uri": "https://localhost:8080/",
          "height": 485
        },
        "outputId": "04a39735-d014-4647-ab82-2cdcba1a12d0"
      },
      "source": [
        "\"\"\"Code Here\n",
        "建立你的神經網路\n",
        "\"\"\"\n",
        "def build_mlp(input_shape, output_units=10, num_neurons=[512, 256, 128]):\n",
        "    input_layer = keras.layers.Input(input_shape)\n",
        "    \n",
        "    for i, n_units in enumerate(num_neurons):\n",
        "        print(f\"num_neurons:{num_neurons}\")\n",
        "        print(f\"enumerate(num_neurons):{enumerate(num_neurons)}\")\n",
        "        print(f\"i:{i}\")\n",
        "        if i == 0:\n",
        "            x = keras.layers.Dense(units=n_units, activation=\"relu\", name=\"hidden_layer\"+str(i+1))(input_layer)\n",
        "        else:\n",
        "            x = keras.layers.Dense(units=n_units, activation=\"relu\", name=\"hidden_layer\"+str(i+1))(x)\n",
        "    \n",
        "    out = keras.layers.Dense(units=output_units, activation=\"softmax\", name=\"output\")(x)\n",
        "    \n",
        "    model = keras.models.Model(inputs=[input_layer], outputs=[out])\n",
        "    return model\n",
        "    \n",
        "model = build_mlp(input_shape=x_train.shape[1:])\n",
        "model.summary()"
      ],
      "execution_count": 6,
      "outputs": [
        {
          "output_type": "stream",
          "text": [
            "num_neurons:[512, 256, 128]\n",
            "enumerate(num_neurons):<enumerate object at 0x7f6f62aa70d8>\n",
            "i:0\n",
            "num_neurons:[512, 256, 128]\n",
            "enumerate(num_neurons):<enumerate object at 0x7f6fa4eb75a0>\n",
            "i:1\n",
            "num_neurons:[512, 256, 128]\n",
            "enumerate(num_neurons):<enumerate object at 0x7f6f62aa7e58>\n",
            "i:2\n",
            "Model: \"model_1\"\n",
            "_________________________________________________________________\n",
            "Layer (type)                 Output Shape              Param #   \n",
            "=================================================================\n",
            "input_1 (InputLayer)         (None, 3072)              0         \n",
            "_________________________________________________________________\n",
            "hidden_layer1 (Dense)        (None, 512)               1573376   \n",
            "_________________________________________________________________\n",
            "hidden_layer2 (Dense)        (None, 256)               131328    \n",
            "_________________________________________________________________\n",
            "hidden_layer3 (Dense)        (None, 128)               32896     \n",
            "_________________________________________________________________\n",
            "output (Dense)               (None, 10)                1290      \n",
            "=================================================================\n",
            "Total params: 1,738,890\n",
            "Trainable params: 1,738,890\n",
            "Non-trainable params: 0\n",
            "_________________________________________________________________\n"
          ],
          "name": "stdout"
        }
      ]
    },
    {
      "cell_type": "code",
      "metadata": {
        "id": "Ur4sCh9eNIfa",
        "colab_type": "code",
        "colab": {}
      },
      "source": [
        "## 超參數設定\n",
        "LEARNING_RATE = 0.001\n",
        "EPOCHS = 50\n",
        "BATCH_SIZE = 256\n"
      ],
      "execution_count": 7,
      "outputs": []
    },
    {
      "cell_type": "code",
      "metadata": {
        "id": "vcV-sBmjNIfc",
        "colab_type": "code",
        "colab": {}
      },
      "source": [
        "optimizer = keras.optimizers.Adam(lr=LEARNING_RATE)\n",
        "model.compile(loss=\"categorical_crossentropy\", metrics=[\"accuracy\"], optimizer=optimizer)"
      ],
      "execution_count": 8,
      "outputs": []
    },
    {
      "cell_type": "code",
      "metadata": {
        "id": "Dk1IoEnMWgM4",
        "colab_type": "code",
        "colab": {
          "base_uri": "https://localhost:8080/",
          "height": 35
        },
        "outputId": "fffbc0e0-8d01-47b7-a94b-677b63f2931a"
      },
      "source": [
        "x_train.shape[1:]"
      ],
      "execution_count": 9,
      "outputs": [
        {
          "output_type": "execute_result",
          "data": {
            "text/plain": [
              "(3072,)"
            ]
          },
          "metadata": {
            "tags": []
          },
          "execution_count": 9
        }
      ]
    },
    {
      "cell_type": "code",
      "metadata": {
        "tags": [],
        "id": "cTSxbF5eNIfe",
        "colab_type": "code",
        "colab": {
          "base_uri": "https://localhost:8080/",
          "height": 1000
        },
        "outputId": "6e783ba1-c174-4022-f980-3cdab0f1e44d"
      },
      "source": [
        "model.fit(x_train, y_train, \n",
        "          epochs=EPOCHS, \n",
        "          batch_size=BATCH_SIZE, \n",
        "          validation_data=(x_test, y_test), \n",
        "          shuffle=True)"
      ],
      "execution_count": 10,
      "outputs": [
        {
          "output_type": "stream",
          "text": [
            "Train on 50000 samples, validate on 10000 samples\n",
            "Epoch 1/50\n",
            "50000/50000 [==============================] - 10s 197us/step - loss: 1.9551 - accuracy: 0.2979 - val_loss: 1.7825 - val_accuracy: 0.3675\n",
            "Epoch 2/50\n",
            "50000/50000 [==============================] - 10s 191us/step - loss: 1.7243 - accuracy: 0.3866 - val_loss: 1.6566 - val_accuracy: 0.4126\n",
            "Epoch 3/50\n",
            "50000/50000 [==============================] - 10s 190us/step - loss: 1.6370 - accuracy: 0.4151 - val_loss: 1.6394 - val_accuracy: 0.4144\n",
            "Epoch 4/50\n",
            "50000/50000 [==============================] - 9s 190us/step - loss: 1.5687 - accuracy: 0.4401 - val_loss: 1.5979 - val_accuracy: 0.4353\n",
            "Epoch 5/50\n",
            "50000/50000 [==============================] - 10s 190us/step - loss: 1.5242 - accuracy: 0.4575 - val_loss: 1.5209 - val_accuracy: 0.4617\n",
            "Epoch 6/50\n",
            "50000/50000 [==============================] - 10s 190us/step - loss: 1.4809 - accuracy: 0.4711 - val_loss: 1.4808 - val_accuracy: 0.4730\n",
            "Epoch 7/50\n",
            "50000/50000 [==============================] - 10s 190us/step - loss: 1.4558 - accuracy: 0.4808 - val_loss: 1.4885 - val_accuracy: 0.4770\n",
            "Epoch 8/50\n",
            "50000/50000 [==============================] - 9s 190us/step - loss: 1.4201 - accuracy: 0.4932 - val_loss: 1.4700 - val_accuracy: 0.4792\n",
            "Epoch 9/50\n",
            "50000/50000 [==============================] - 10s 191us/step - loss: 1.3929 - accuracy: 0.5046 - val_loss: 1.4356 - val_accuracy: 0.4921\n",
            "Epoch 10/50\n",
            "50000/50000 [==============================] - 10s 190us/step - loss: 1.3598 - accuracy: 0.5163 - val_loss: 1.4369 - val_accuracy: 0.4915\n",
            "Epoch 11/50\n",
            "50000/50000 [==============================] - 9s 190us/step - loss: 1.3423 - accuracy: 0.5228 - val_loss: 1.4550 - val_accuracy: 0.4830\n",
            "Epoch 12/50\n",
            "50000/50000 [==============================] - 9s 190us/step - loss: 1.3131 - accuracy: 0.5326 - val_loss: 1.4424 - val_accuracy: 0.4902\n",
            "Epoch 13/50\n",
            "50000/50000 [==============================] - 9s 190us/step - loss: 1.2969 - accuracy: 0.5393 - val_loss: 1.4056 - val_accuracy: 0.5110\n",
            "Epoch 14/50\n",
            "50000/50000 [==============================] - 9s 189us/step - loss: 1.2749 - accuracy: 0.5470 - val_loss: 1.4022 - val_accuracy: 0.5086\n",
            "Epoch 15/50\n",
            "50000/50000 [==============================] - 9s 188us/step - loss: 1.2457 - accuracy: 0.5577 - val_loss: 1.3859 - val_accuracy: 0.5143\n",
            "Epoch 16/50\n",
            "50000/50000 [==============================] - 9s 190us/step - loss: 1.2292 - accuracy: 0.5613 - val_loss: 1.4265 - val_accuracy: 0.5106\n",
            "Epoch 17/50\n",
            "50000/50000 [==============================] - 10s 192us/step - loss: 1.2024 - accuracy: 0.5710 - val_loss: 1.4305 - val_accuracy: 0.5006\n",
            "Epoch 18/50\n",
            "50000/50000 [==============================] - 10s 191us/step - loss: 1.1884 - accuracy: 0.5763 - val_loss: 1.3941 - val_accuracy: 0.5141\n",
            "Epoch 19/50\n",
            "50000/50000 [==============================] - 10s 192us/step - loss: 1.1664 - accuracy: 0.5846 - val_loss: 1.4043 - val_accuracy: 0.5085\n",
            "Epoch 20/50\n",
            "50000/50000 [==============================] - 10s 191us/step - loss: 1.1528 - accuracy: 0.5865 - val_loss: 1.3674 - val_accuracy: 0.5186\n",
            "Epoch 21/50\n",
            "50000/50000 [==============================] - 10s 192us/step - loss: 1.1242 - accuracy: 0.5992 - val_loss: 1.4071 - val_accuracy: 0.5100\n",
            "Epoch 22/50\n",
            "50000/50000 [==============================] - 10s 193us/step - loss: 1.1168 - accuracy: 0.6016 - val_loss: 1.4055 - val_accuracy: 0.5151\n",
            "Epoch 23/50\n",
            "50000/50000 [==============================] - 10s 192us/step - loss: 1.0880 - accuracy: 0.6131 - val_loss: 1.3842 - val_accuracy: 0.5254\n",
            "Epoch 24/50\n",
            "50000/50000 [==============================] - 10s 191us/step - loss: 1.0772 - accuracy: 0.6167 - val_loss: 1.4224 - val_accuracy: 0.5081\n",
            "Epoch 25/50\n",
            "50000/50000 [==============================] - 10s 192us/step - loss: 1.0573 - accuracy: 0.6239 - val_loss: 1.4065 - val_accuracy: 0.5108\n",
            "Epoch 26/50\n",
            "50000/50000 [==============================] - 10s 193us/step - loss: 1.0414 - accuracy: 0.6294 - val_loss: 1.4076 - val_accuracy: 0.5235\n",
            "Epoch 27/50\n",
            "50000/50000 [==============================] - 10s 196us/step - loss: 1.0267 - accuracy: 0.6345 - val_loss: 1.4210 - val_accuracy: 0.5266\n",
            "Epoch 28/50\n",
            "50000/50000 [==============================] - 10s 191us/step - loss: 1.0037 - accuracy: 0.6422 - val_loss: 1.4059 - val_accuracy: 0.5274\n",
            "Epoch 29/50\n",
            "50000/50000 [==============================] - 9s 190us/step - loss: 0.9781 - accuracy: 0.6521 - val_loss: 1.4187 - val_accuracy: 0.5289\n",
            "Epoch 30/50\n",
            "50000/50000 [==============================] - 9s 190us/step - loss: 0.9712 - accuracy: 0.6525 - val_loss: 1.3966 - val_accuracy: 0.5343\n",
            "Epoch 31/50\n",
            "50000/50000 [==============================] - 9s 189us/step - loss: 0.9515 - accuracy: 0.6615 - val_loss: 1.4875 - val_accuracy: 0.5107\n",
            "Epoch 32/50\n",
            "50000/50000 [==============================] - 9s 189us/step - loss: 0.9449 - accuracy: 0.6622 - val_loss: 1.4721 - val_accuracy: 0.5254\n",
            "Epoch 33/50\n",
            "50000/50000 [==============================] - 9s 189us/step - loss: 0.9206 - accuracy: 0.6707 - val_loss: 1.4877 - val_accuracy: 0.5253\n",
            "Epoch 34/50\n",
            "50000/50000 [==============================] - 10s 191us/step - loss: 0.9021 - accuracy: 0.6786 - val_loss: 1.4911 - val_accuracy: 0.5233\n",
            "Epoch 35/50\n",
            "50000/50000 [==============================] - 9s 190us/step - loss: 0.8828 - accuracy: 0.6853 - val_loss: 1.4952 - val_accuracy: 0.5261\n",
            "Epoch 36/50\n",
            "50000/50000 [==============================] - 10s 190us/step - loss: 0.8751 - accuracy: 0.6850 - val_loss: 1.5083 - val_accuracy: 0.5216\n",
            "Epoch 37/50\n",
            "50000/50000 [==============================] - 9s 190us/step - loss: 0.8493 - accuracy: 0.6974 - val_loss: 1.5159 - val_accuracy: 0.5243\n",
            "Epoch 38/50\n",
            "50000/50000 [==============================] - 9s 189us/step - loss: 0.8421 - accuracy: 0.6990 - val_loss: 1.5859 - val_accuracy: 0.5196\n",
            "Epoch 39/50\n",
            "50000/50000 [==============================] - 9s 190us/step - loss: 0.8167 - accuracy: 0.7086 - val_loss: 1.5612 - val_accuracy: 0.5171\n",
            "Epoch 40/50\n",
            "50000/50000 [==============================] - 9s 190us/step - loss: 0.8032 - accuracy: 0.7128 - val_loss: 1.5556 - val_accuracy: 0.5263\n",
            "Epoch 41/50\n",
            "50000/50000 [==============================] - 12s 233us/step - loss: 0.7961 - accuracy: 0.7148 - val_loss: 1.5728 - val_accuracy: 0.5206\n",
            "Epoch 42/50\n",
            "50000/50000 [==============================] - 10s 190us/step - loss: 0.7723 - accuracy: 0.7239 - val_loss: 1.6165 - val_accuracy: 0.5211\n",
            "Epoch 43/50\n",
            "50000/50000 [==============================] - 9s 190us/step - loss: 0.7697 - accuracy: 0.7265 - val_loss: 1.6207 - val_accuracy: 0.5200\n",
            "Epoch 44/50\n",
            "50000/50000 [==============================] - 9s 190us/step - loss: 0.7486 - accuracy: 0.7329 - val_loss: 1.6309 - val_accuracy: 0.5254\n",
            "Epoch 45/50\n",
            "50000/50000 [==============================] - 9s 190us/step - loss: 0.7251 - accuracy: 0.7416 - val_loss: 1.6518 - val_accuracy: 0.5216\n",
            "Epoch 46/50\n",
            "50000/50000 [==============================] - 10s 190us/step - loss: 0.7248 - accuracy: 0.7386 - val_loss: 1.6514 - val_accuracy: 0.5205\n",
            "Epoch 47/50\n",
            "50000/50000 [==============================] - 10s 190us/step - loss: 0.7151 - accuracy: 0.7444 - val_loss: 1.6976 - val_accuracy: 0.5247\n",
            "Epoch 48/50\n",
            "50000/50000 [==============================] - 10s 190us/step - loss: 0.7068 - accuracy: 0.7465 - val_loss: 1.6956 - val_accuracy: 0.5224\n",
            "Epoch 49/50\n",
            "50000/50000 [==============================] - 9s 189us/step - loss: 0.6890 - accuracy: 0.7539 - val_loss: 1.6848 - val_accuracy: 0.5205\n",
            "Epoch 50/50\n",
            "50000/50000 [==============================] - 9s 190us/step - loss: 0.6602 - accuracy: 0.7646 - val_loss: 1.7655 - val_accuracy: 0.5175\n"
          ],
          "name": "stdout"
        },
        {
          "output_type": "execute_result",
          "data": {
            "text/plain": [
              "<keras.callbacks.callbacks.History at 0x7f6f63159a20>"
            ]
          },
          "metadata": {
            "tags": []
          },
          "execution_count": 10
        }
      ]
    },
    {
      "cell_type": "code",
      "metadata": {
        "id": "rFk9kDLANIfg",
        "colab_type": "code",
        "colab": {
          "base_uri": "https://localhost:8080/",
          "height": 545
        },
        "outputId": "dc9d06db-6332-4a0f-bd24-845cb3d18cf8"
      },
      "source": [
        "import matplotlib.pyplot as plt\n",
        "\n",
        "\n",
        "train_loss = model.history.history[\"loss\"]\n",
        "valid_loss = model.history.history[\"val_loss\"]\n",
        "\n",
        "train_acc = model.history.history[\"accuracy\"]\n",
        "valid_acc = model.history.history[\"val_accuracy\"]\n",
        "\n",
        "plt.plot(range(len(train_loss)), train_loss, label=\"train loss\")\n",
        "plt.plot(range(len(valid_loss)), valid_loss, label=\"valid loss\")\n",
        "plt.legend()\n",
        "plt.title(\"Loss\")\n",
        "plt.show()\n",
        "\n",
        "plt.plot(range(len(train_acc)), train_acc, label=\"train accuracy\")\n",
        "plt.plot(range(len(valid_acc)), valid_acc, label=\"valid accuracy\")\n",
        "plt.legend()\n",
        "plt.title(\"Accuracy\")\n",
        "plt.show()"
      ],
      "execution_count": 11,
      "outputs": [
        {
          "output_type": "display_data",
          "data": {
            "image/png": "[encoded data removed]",
            "text/plain": [
              "<Figure size 432x288 with 1 Axes>"
            ]
          },
          "metadata": {
            "tags": [],
            "needs_background": "light"
          }
        },
        {
          "output_type": "display_data",
          "data": {
            "image/png": "[encoded data removed]",
            "text/plain": [
              "<Figure size 432x288 with 1 Axes>"
            ]
          },
          "metadata": {
            "tags": [],
            "needs_background": "light"
          }
        }
      ]
    }
  ]
}