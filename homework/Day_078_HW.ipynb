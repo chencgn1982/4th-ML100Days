{
  "nbformat": 4,
  "nbformat_minor": 0,
  "metadata": {
    "kernelspec": {
      "display_name": "Python 3.7.0 64-bit",
      "language": "python",
      "name": "python_defaultSpec_1595997412783"
    },
    "language_info": {
      "codemirror_mode": {
        "name": "ipython",
        "version": 3
      },
      "file_extension": ".py",
      "mimetype": "text/x-python",
      "name": "python",
      "nbconvert_exporter": "python",
      "pygments_lexer": "ipython3",
      "version": "3.6.5"
    },
    "colab": {
      "name": "Day078_HW.ipynb",
      "provenance": []
    }
  },
  "cells": [
    {
      "cell_type": "markdown",
      "metadata": {
        "id": "2prDw3puNIfI",
        "colab_type": "text"
      },
      "source": [
        "## Work\n",
        "1. 請嘗試將 preproc_x 替換成以每筆資料的 min/max 進行標準化至 -1 ~ 1 間，再進行訓練\n",
        "2. 請嘗試將 mlp 疊更深 (e.g 5~10 層)，進行訓練後觀察 learning curve 的走勢\n",
        "3. (optional) 請改用 GPU 進行訓練 (如果你有 GPU 的話)，比較使用 CPU 與 GPU 的訓練速度"
      ]
    },
    {
      "cell_type": "code",
      "metadata": {
        "id": "qdo56LQyNIfJ",
        "colab_type": "code",
        "colab": {
          "base_uri": "https://localhost:8080/",
          "height": 35
        },
        "outputId": "7d4d0e4f-345e-4f7e-d6fa-14526b97fb0a"
      },
      "source": [
        "## \n",
        "\"\"\"\n",
        "Your code here (optional)\n",
        "確認硬體資源\n",
        "\"\"\"\n"
      ],
      "execution_count": 1,
      "outputs": [
        {
          "output_type": "execute_result",
          "data": {
            "application/vnd.google.colaboratory.intrinsic+json": {
              "type": "string"
            },
            "text/plain": [
              "'\\nYour code here (optional)\\n確認硬體資源\\n'"
            ]
          },
          "metadata": {
            "tags": []
          },
          "execution_count": 1
        }
      ]
    },
    {
      "cell_type": "code",
      "metadata": {
        "id": "2D-kDqRONIfN",
        "colab_type": "code",
        "colab": {
          "base_uri": "https://localhost:8080/",
          "height": 35
        },
        "outputId": "d163a240-69fe-497b-94d8-c81155c65d71"
      },
      "source": [
        "import os\n",
        "import keras\n",
        "\n",
        "# 請嘗試設定 GPU：os.environ\n"
      ],
      "execution_count": 2,
      "outputs": [
        {
          "output_type": "stream",
          "text": [
            "Using TensorFlow backend.\n"
          ],
          "name": "stderr"
        }
      ]
    },
    {
      "cell_type": "code",
      "metadata": {
        "id": "m-vBEEZ3NIfP",
        "colab_type": "code",
        "colab": {
          "base_uri": "https://localhost:8080/",
          "height": 52
        },
        "outputId": "b5d365ea-f6d5-4a0a-d650-beaca3efd29e"
      },
      "source": [
        "train, test = keras.datasets.cifar10.load_data()"
      ],
      "execution_count": 3,
      "outputs": [
        {
          "output_type": "stream",
          "text": [
            "Downloading data from https://www.cs.toronto.edu/~kriz/cifar-10-python.tar.gz\n",
            "170500096/170498071 [==============================] - 2s 0us/step\n"
          ],
          "name": "stdout"
        }
      ]
    },
    {
      "cell_type": "code",
      "metadata": {
        "id": "60OEA3pyNIfT",
        "colab_type": "code",
        "colab": {}
      },
      "source": [
        "## 資料前處理\n",
        "\"\"\"\n",
        "Your code here\n",
        "\"\"\"\n",
        "def preproc_x(x, flatten=True):\n",
        "    x = x / 255.\n",
        "    if flatten:\n",
        "        x = x.reshape((len(x), -1))\n",
        "    return x\n",
        "\n",
        "def preproc_y(y, num_classes=10):\n",
        "    if y.shape[-1] == 1:\n",
        "        y = keras.utils.to_categorical(y, num_classes)\n",
        "    return y"
      ],
      "execution_count": 26,
      "outputs": []
    },
    {
      "cell_type": "code",
      "metadata": {
        "tags": [],
        "id": "GpECzlZkNIfV",
        "colab_type": "code",
        "colab": {}
      },
      "source": [
        "x_train, y_train = train\n",
        "x_test, y_test = test\n",
        "#y_test\n",
        "# Preproc the inputs\n",
        "x_train = preproc_x(x_train)\n",
        "x_test = preproc_x(x_test)\n",
        "\n",
        "# Preprc the outputs\n",
        "y_train = preproc_y(y_train)\n",
        "y_test = preproc_y(y_test)"
      ],
      "execution_count": 27,
      "outputs": []
    },
    {
      "cell_type": "code",
      "metadata": {
        "tags": [],
        "id": "tbq8IZYQNIfX",
        "colab_type": "code",
        "colab": {
          "base_uri": "https://localhost:8080/",
          "height": 329
        },
        "outputId": "7e71fe22-408e-43cc-afcb-cfc7034afa73"
      },
      "source": [
        "\"\"\"Code Here\n",
        "建立你的神經網路\n",
        "\"\"\"\n",
        "def build_mlp(input_shape, output_units=10, num_neurons=[512, 256, 128]):\n",
        "    input_layer = keras.layers.Input(input_shape)\n",
        "    \n",
        "    for i, n_units in enumerate(num_neurons):\n",
        "        if i == 0:\n",
        "            x = keras.layers.Dense(units=n_units, activation=\"relu\", name=\"hidden_layer\"+str(i+1))(input_layer)\n",
        "        else:\n",
        "            x = keras.layers.Dense(units=n_units, activation=\"relu\", name=\"hidden_layer\"+str(i+1))(x)\n",
        "    \n",
        "    out = keras.layers.Dense(units=output_units, activation=\"softmax\", name=\"output\")(x)\n",
        "    \n",
        "    model = keras.models.Model(inputs=[input_layer], outputs=[out])\n",
        "    return model\n",
        "    \n",
        "model = build_mlp(input_shape=x_train.shape[1:])\n",
        "model.summary()"
      ],
      "execution_count": 28,
      "outputs": [
        {
          "output_type": "stream",
          "text": [
            "Model: \"model_4\"\n",
            "_________________________________________________________________\n",
            "Layer (type)                 Output Shape              Param #   \n",
            "=================================================================\n",
            "input_4 (InputLayer)         (None, 3072)              0         \n",
            "_________________________________________________________________\n",
            "hidden_layer1 (Dense)        (None, 512)               1573376   \n",
            "_________________________________________________________________\n",
            "hidden_layer2 (Dense)        (None, 256)               131328    \n",
            "_________________________________________________________________\n",
            "hidden_layer3 (Dense)        (None, 128)               32896     \n",
            "_________________________________________________________________\n",
            "output (Dense)               (None, 10)                1290      \n",
            "=================================================================\n",
            "Total params: 1,738,890\n",
            "Trainable params: 1,738,890\n",
            "Non-trainable params: 0\n",
            "_________________________________________________________________\n"
          ],
          "name": "stdout"
        }
      ]
    },
    {
      "cell_type": "code",
      "metadata": {
        "id": "Ur4sCh9eNIfa",
        "colab_type": "code",
        "colab": {}
      },
      "source": [
        "## 超參數設定\n",
        "LEARNING_RATE = 0.001\n",
        "EPOCHS = 100\n",
        "BATCH_SIZE = 256\n"
      ],
      "execution_count": 29,
      "outputs": []
    },
    {
      "cell_type": "code",
      "metadata": {
        "id": "vcV-sBmjNIfc",
        "colab_type": "code",
        "colab": {}
      },
      "source": [
        "optimizer = keras.optimizers.Adam(lr=LEARNING_RATE)\n",
        "model.compile(loss=\"categorical_crossentropy\", metrics=[\"accuracy\"], optimizer=optimizer)"
      ],
      "execution_count": 30,
      "outputs": []
    },
    {
      "cell_type": "code",
      "metadata": {
        "id": "Dk1IoEnMWgM4",
        "colab_type": "code",
        "colab": {
          "base_uri": "https://localhost:8080/",
          "height": 35
        },
        "outputId": "fbc3137a-d3d4-4965-f240-d55297730a40"
      },
      "source": [
        "x_train.shape[1:]"
      ],
      "execution_count": 31,
      "outputs": [
        {
          "output_type": "execute_result",
          "data": {
            "text/plain": [
              "(3072,)"
            ]
          },
          "metadata": {
            "tags": []
          },
          "execution_count": 31
        }
      ]
    },
    {
      "cell_type": "code",
      "metadata": {
        "tags": [],
        "id": "cTSxbF5eNIfe",
        "colab_type": "code",
        "colab": {
          "base_uri": "https://localhost:8080/",
          "height": 1000
        },
        "outputId": "ac265a70-1da0-4da3-fd30-09088668d65c"
      },
      "source": [
        "model.fit(x_train, y_train, \n",
        "          epochs=EPOCHS, \n",
        "          batch_size=BATCH_SIZE, \n",
        "          validation_data=(x_test, y_test), \n",
        "          shuffle=True)"
      ],
      "execution_count": 32,
      "outputs": [
        {
          "output_type": "stream",
          "text": [
            "Train on 50000 samples, validate on 10000 samples\n",
            "Epoch 1/100\n",
            "50000/50000 [==============================] - 13s 267us/step - loss: 1.9676 - accuracy: 0.2878 - val_loss: 1.8180 - val_accuracy: 0.3531\n",
            "Epoch 2/100\n",
            "50000/50000 [==============================] - 12s 234us/step - loss: 1.7251 - accuracy: 0.3810 - val_loss: 1.7006 - val_accuracy: 0.4001\n",
            "Epoch 3/100\n",
            "50000/50000 [==============================] - 12s 232us/step - loss: 1.6337 - accuracy: 0.4176 - val_loss: 1.6215 - val_accuracy: 0.4167\n",
            "Epoch 4/100\n",
            "50000/50000 [==============================] - 12s 234us/step - loss: 1.5662 - accuracy: 0.4460 - val_loss: 1.5655 - val_accuracy: 0.4419\n",
            "Epoch 5/100\n",
            "50000/50000 [==============================] - 12s 234us/step - loss: 1.5133 - accuracy: 0.4621 - val_loss: 1.5210 - val_accuracy: 0.4545\n",
            "Epoch 6/100\n",
            "50000/50000 [==============================] - 12s 234us/step - loss: 1.4749 - accuracy: 0.4736 - val_loss: 1.4966 - val_accuracy: 0.4659\n",
            "Epoch 7/100\n",
            "50000/50000 [==============================] - 12s 232us/step - loss: 1.4438 - accuracy: 0.4828 - val_loss: 1.4730 - val_accuracy: 0.4765\n",
            "Epoch 8/100\n",
            "50000/50000 [==============================] - 12s 232us/step - loss: 1.4129 - accuracy: 0.4956 - val_loss: 1.4643 - val_accuracy: 0.4792\n",
            "Epoch 9/100\n",
            "50000/50000 [==============================] - 12s 233us/step - loss: 1.3842 - accuracy: 0.5056 - val_loss: 1.4755 - val_accuracy: 0.4705\n",
            "Epoch 10/100\n",
            "50000/50000 [==============================] - 12s 233us/step - loss: 1.3594 - accuracy: 0.5173 - val_loss: 1.4565 - val_accuracy: 0.4824\n",
            "Epoch 11/100\n",
            "50000/50000 [==============================] - 12s 232us/step - loss: 1.3365 - accuracy: 0.5242 - val_loss: 1.4385 - val_accuracy: 0.4935\n",
            "Epoch 12/100\n",
            "50000/50000 [==============================] - 12s 237us/step - loss: 1.3186 - accuracy: 0.5297 - val_loss: 1.4200 - val_accuracy: 0.4990\n",
            "Epoch 13/100\n",
            "50000/50000 [==============================] - 12s 239us/step - loss: 1.2880 - accuracy: 0.5402 - val_loss: 1.4261 - val_accuracy: 0.4995\n",
            "Epoch 14/100\n",
            "50000/50000 [==============================] - 12s 238us/step - loss: 1.2633 - accuracy: 0.5507 - val_loss: 1.3800 - val_accuracy: 0.5181\n",
            "Epoch 15/100\n",
            "50000/50000 [==============================] - 12s 234us/step - loss: 1.2394 - accuracy: 0.5597 - val_loss: 1.3831 - val_accuracy: 0.5116\n",
            "Epoch 16/100\n",
            "50000/50000 [==============================] - 12s 236us/step - loss: 1.2223 - accuracy: 0.5633 - val_loss: 1.3828 - val_accuracy: 0.5136\n",
            "Epoch 17/100\n",
            "50000/50000 [==============================] - 12s 232us/step - loss: 1.2026 - accuracy: 0.5715 - val_loss: 1.3966 - val_accuracy: 0.5060\n",
            "Epoch 18/100\n",
            "50000/50000 [==============================] - 12s 232us/step - loss: 1.1787 - accuracy: 0.5801 - val_loss: 1.4091 - val_accuracy: 0.5129\n",
            "Epoch 19/100\n",
            "50000/50000 [==============================] - 12s 234us/step - loss: 1.1632 - accuracy: 0.5862 - val_loss: 1.3793 - val_accuracy: 0.5165\n",
            "Epoch 20/100\n",
            "50000/50000 [==============================] - 13s 252us/step - loss: 1.1305 - accuracy: 0.5978 - val_loss: 1.3527 - val_accuracy: 0.5276\n",
            "Epoch 21/100\n",
            "50000/50000 [==============================] - 12s 234us/step - loss: 1.1098 - accuracy: 0.6055 - val_loss: 1.4268 - val_accuracy: 0.5065\n",
            "Epoch 22/100\n",
            "50000/50000 [==============================] - 12s 232us/step - loss: 1.0955 - accuracy: 0.6110 - val_loss: 1.4765 - val_accuracy: 0.5013\n",
            "Epoch 23/100\n",
            "50000/50000 [==============================] - 12s 232us/step - loss: 1.0821 - accuracy: 0.6148 - val_loss: 1.4051 - val_accuracy: 0.5198\n",
            "Epoch 24/100\n",
            "50000/50000 [==============================] - 12s 235us/step - loss: 1.0533 - accuracy: 0.6250 - val_loss: 1.4027 - val_accuracy: 0.5247\n",
            "Epoch 25/100\n",
            "50000/50000 [==============================] - 12s 235us/step - loss: 1.0397 - accuracy: 0.6307 - val_loss: 1.3908 - val_accuracy: 0.5219\n",
            "Epoch 26/100\n",
            "50000/50000 [==============================] - 12s 233us/step - loss: 1.0120 - accuracy: 0.6385 - val_loss: 1.4351 - val_accuracy: 0.5184\n",
            "Epoch 27/100\n",
            "50000/50000 [==============================] - 12s 232us/step - loss: 1.0050 - accuracy: 0.6436 - val_loss: 1.3930 - val_accuracy: 0.5226\n",
            "Epoch 28/100\n",
            "50000/50000 [==============================] - 12s 233us/step - loss: 0.9853 - accuracy: 0.6484 - val_loss: 1.4188 - val_accuracy: 0.5210\n",
            "Epoch 29/100\n",
            "50000/50000 [==============================] - 12s 233us/step - loss: 0.9717 - accuracy: 0.6528 - val_loss: 1.4494 - val_accuracy: 0.5117\n",
            "Epoch 30/100\n",
            "50000/50000 [==============================] - 12s 233us/step - loss: 0.9509 - accuracy: 0.6608 - val_loss: 1.4292 - val_accuracy: 0.5209\n",
            "Epoch 31/100\n",
            "50000/50000 [==============================] - 12s 235us/step - loss: 0.9396 - accuracy: 0.6663 - val_loss: 1.4355 - val_accuracy: 0.5196\n",
            "Epoch 32/100\n",
            "50000/50000 [==============================] - 12s 234us/step - loss: 0.9080 - accuracy: 0.6775 - val_loss: 1.4310 - val_accuracy: 0.5259\n",
            "Epoch 33/100\n",
            "50000/50000 [==============================] - 12s 246us/step - loss: 0.9023 - accuracy: 0.6777 - val_loss: 1.4572 - val_accuracy: 0.5197\n",
            "Epoch 34/100\n",
            "50000/50000 [==============================] - 14s 272us/step - loss: 0.8802 - accuracy: 0.6882 - val_loss: 1.4659 - val_accuracy: 0.5218\n",
            "Epoch 35/100\n",
            "50000/50000 [==============================] - 13s 266us/step - loss: 0.8629 - accuracy: 0.6928 - val_loss: 1.4712 - val_accuracy: 0.5237\n",
            "Epoch 36/100\n",
            "50000/50000 [==============================] - 14s 276us/step - loss: 0.8462 - accuracy: 0.6988 - val_loss: 1.5022 - val_accuracy: 0.5237\n",
            "Epoch 37/100\n",
            "50000/50000 [==============================] - 14s 275us/step - loss: 0.8388 - accuracy: 0.7038 - val_loss: 1.4982 - val_accuracy: 0.5220\n",
            "Epoch 38/100\n",
            "50000/50000 [==============================] - 14s 278us/step - loss: 0.8123 - accuracy: 0.7109 - val_loss: 1.5354 - val_accuracy: 0.5173\n",
            "Epoch 39/100\n",
            "50000/50000 [==============================] - 14s 272us/step - loss: 0.7984 - accuracy: 0.7155 - val_loss: 1.5810 - val_accuracy: 0.5126\n",
            "Epoch 40/100\n",
            "50000/50000 [==============================] - 13s 268us/step - loss: 0.7824 - accuracy: 0.7200 - val_loss: 1.6206 - val_accuracy: 0.5137\n",
            "Epoch 41/100\n",
            "50000/50000 [==============================] - 14s 273us/step - loss: 0.7736 - accuracy: 0.7265 - val_loss: 1.5729 - val_accuracy: 0.5182\n",
            "Epoch 42/100\n",
            "50000/50000 [==============================] - 14s 280us/step - loss: 0.7460 - accuracy: 0.7343 - val_loss: 1.6373 - val_accuracy: 0.5161\n",
            "Epoch 43/100\n",
            "50000/50000 [==============================] - 14s 273us/step - loss: 0.7346 - accuracy: 0.7397 - val_loss: 1.6171 - val_accuracy: 0.5180\n",
            "Epoch 44/100\n",
            "50000/50000 [==============================] - 14s 274us/step - loss: 0.7285 - accuracy: 0.7402 - val_loss: 1.6023 - val_accuracy: 0.5202\n",
            "Epoch 45/100\n",
            "50000/50000 [==============================] - 14s 281us/step - loss: 0.7083 - accuracy: 0.7483 - val_loss: 1.6412 - val_accuracy: 0.5200\n",
            "Epoch 46/100\n",
            "50000/50000 [==============================] - 14s 278us/step - loss: 0.6932 - accuracy: 0.7530 - val_loss: 1.6859 - val_accuracy: 0.5157\n",
            "Epoch 47/100\n",
            "50000/50000 [==============================] - 14s 272us/step - loss: 0.6965 - accuracy: 0.7515 - val_loss: 1.6708 - val_accuracy: 0.5228\n",
            "Epoch 48/100\n",
            "50000/50000 [==============================] - 13s 269us/step - loss: 0.6837 - accuracy: 0.7570 - val_loss: 1.7403 - val_accuracy: 0.5151\n",
            "Epoch 49/100\n",
            "50000/50000 [==============================] - 14s 278us/step - loss: 0.6763 - accuracy: 0.7577 - val_loss: 1.8208 - val_accuracy: 0.5110\n",
            "Epoch 50/100\n",
            "50000/50000 [==============================] - 15s 304us/step - loss: 0.6590 - accuracy: 0.7651 - val_loss: 1.7899 - val_accuracy: 0.5123\n",
            "Epoch 51/100\n",
            "50000/50000 [==============================] - 14s 276us/step - loss: 0.6422 - accuracy: 0.7717 - val_loss: 1.7768 - val_accuracy: 0.5140\n",
            "Epoch 52/100\n",
            "50000/50000 [==============================] - 14s 277us/step - loss: 0.6239 - accuracy: 0.7757 - val_loss: 1.8357 - val_accuracy: 0.5206\n",
            "Epoch 53/100\n",
            "50000/50000 [==============================] - 14s 270us/step - loss: 0.6223 - accuracy: 0.7773 - val_loss: 1.7610 - val_accuracy: 0.5146\n",
            "Epoch 54/100\n",
            "50000/50000 [==============================] - 14s 270us/step - loss: 0.6049 - accuracy: 0.7839 - val_loss: 1.8234 - val_accuracy: 0.5177\n",
            "Epoch 55/100\n",
            "50000/50000 [==============================] - 13s 270us/step - loss: 0.6021 - accuracy: 0.7873 - val_loss: 1.8637 - val_accuracy: 0.5182\n",
            "Epoch 56/100\n",
            "50000/50000 [==============================] - 14s 279us/step - loss: 0.5753 - accuracy: 0.7949 - val_loss: 1.9265 - val_accuracy: 0.5098\n",
            "Epoch 57/100\n",
            "50000/50000 [==============================] - 13s 265us/step - loss: 0.5802 - accuracy: 0.7928 - val_loss: 1.9717 - val_accuracy: 0.5074\n",
            "Epoch 58/100\n",
            "50000/50000 [==============================] - 14s 270us/step - loss: 0.5572 - accuracy: 0.8020 - val_loss: 2.0158 - val_accuracy: 0.5037\n",
            "Epoch 59/100\n",
            "50000/50000 [==============================] - 13s 270us/step - loss: 0.5501 - accuracy: 0.8039 - val_loss: 1.9483 - val_accuracy: 0.5173\n",
            "Epoch 60/100\n",
            "50000/50000 [==============================] - 14s 272us/step - loss: 0.5442 - accuracy: 0.8053 - val_loss: 2.0412 - val_accuracy: 0.5019\n",
            "Epoch 61/100\n",
            "50000/50000 [==============================] - 14s 278us/step - loss: 0.5320 - accuracy: 0.8101 - val_loss: 2.0512 - val_accuracy: 0.5062\n",
            "Epoch 62/100\n",
            "50000/50000 [==============================] - 14s 279us/step - loss: 0.5183 - accuracy: 0.8144 - val_loss: 2.1068 - val_accuracy: 0.5100\n",
            "Epoch 63/100\n",
            "50000/50000 [==============================] - 14s 277us/step - loss: 0.5004 - accuracy: 0.8240 - val_loss: 2.0976 - val_accuracy: 0.5044\n",
            "Epoch 64/100\n",
            "50000/50000 [==============================] - 14s 276us/step - loss: 0.4910 - accuracy: 0.8241 - val_loss: 2.1165 - val_accuracy: 0.5038\n",
            "Epoch 65/100\n",
            "50000/50000 [==============================] - 14s 278us/step - loss: 0.4958 - accuracy: 0.8237 - val_loss: 2.1049 - val_accuracy: 0.5138\n",
            "Epoch 66/100\n",
            "50000/50000 [==============================] - 14s 272us/step - loss: 0.4834 - accuracy: 0.8275 - val_loss: 2.1308 - val_accuracy: 0.5099\n",
            "Epoch 67/100\n",
            "50000/50000 [==============================] - 14s 274us/step - loss: 0.4833 - accuracy: 0.8273 - val_loss: 2.4026 - val_accuracy: 0.4780\n",
            "Epoch 68/100\n",
            "50000/50000 [==============================] - 14s 272us/step - loss: 0.4645 - accuracy: 0.8350 - val_loss: 2.2531 - val_accuracy: 0.5124\n",
            "Epoch 69/100\n",
            "50000/50000 [==============================] - 14s 280us/step - loss: 0.4654 - accuracy: 0.8327 - val_loss: 2.2890 - val_accuracy: 0.5099\n",
            "Epoch 70/100\n",
            "50000/50000 [==============================] - 14s 278us/step - loss: 0.4698 - accuracy: 0.8308 - val_loss: 2.2818 - val_accuracy: 0.5055\n",
            "Epoch 71/100\n",
            "50000/50000 [==============================] - 14s 281us/step - loss: 0.4296 - accuracy: 0.8478 - val_loss: 2.3007 - val_accuracy: 0.5075\n",
            "Epoch 72/100\n",
            "50000/50000 [==============================] - 14s 275us/step - loss: 0.4468 - accuracy: 0.8399 - val_loss: 2.4220 - val_accuracy: 0.5000\n",
            "Epoch 73/100\n",
            "50000/50000 [==============================] - 14s 277us/step - loss: 0.4200 - accuracy: 0.8503 - val_loss: 2.3684 - val_accuracy: 0.5064\n",
            "Epoch 74/100\n",
            "50000/50000 [==============================] - 14s 275us/step - loss: 0.4123 - accuracy: 0.8528 - val_loss: 2.3818 - val_accuracy: 0.5073\n",
            "Epoch 75/100\n",
            "50000/50000 [==============================] - 14s 279us/step - loss: 0.4204 - accuracy: 0.8496 - val_loss: 2.4124 - val_accuracy: 0.5055\n",
            "Epoch 76/100\n",
            "50000/50000 [==============================] - 14s 273us/step - loss: 0.4108 - accuracy: 0.8541 - val_loss: 2.5178 - val_accuracy: 0.5073\n",
            "Epoch 77/100\n",
            "50000/50000 [==============================] - 14s 280us/step - loss: 0.3951 - accuracy: 0.8593 - val_loss: 2.5479 - val_accuracy: 0.5016\n",
            "Epoch 78/100\n",
            "50000/50000 [==============================] - 14s 273us/step - loss: 0.4072 - accuracy: 0.8535 - val_loss: 2.4539 - val_accuracy: 0.5107\n",
            "Epoch 79/100\n",
            "50000/50000 [==============================] - 14s 278us/step - loss: 0.3941 - accuracy: 0.8584 - val_loss: 2.5833 - val_accuracy: 0.5002\n",
            "Epoch 80/100\n",
            "50000/50000 [==============================] - 14s 271us/step - loss: 0.3848 - accuracy: 0.8629 - val_loss: 2.6232 - val_accuracy: 0.5017\n",
            "Epoch 81/100\n",
            "50000/50000 [==============================] - 14s 270us/step - loss: 0.3723 - accuracy: 0.8688 - val_loss: 2.6175 - val_accuracy: 0.5013\n",
            "Epoch 82/100\n",
            "50000/50000 [==============================] - 14s 271us/step - loss: 0.3854 - accuracy: 0.8622 - val_loss: 2.7535 - val_accuracy: 0.4984\n",
            "Epoch 83/100\n",
            "50000/50000 [==============================] - 14s 275us/step - loss: 0.3985 - accuracy: 0.8569 - val_loss: 2.6202 - val_accuracy: 0.5071\n",
            "Epoch 84/100\n",
            "50000/50000 [==============================] - 14s 281us/step - loss: 0.3541 - accuracy: 0.8733 - val_loss: 2.7069 - val_accuracy: 0.5017\n",
            "Epoch 85/100\n",
            "50000/50000 [==============================] - 14s 280us/step - loss: 0.3455 - accuracy: 0.8761 - val_loss: 2.7248 - val_accuracy: 0.4961\n",
            "Epoch 86/100\n",
            "50000/50000 [==============================] - 14s 270us/step - loss: 0.3523 - accuracy: 0.8745 - val_loss: 2.8160 - val_accuracy: 0.5032\n",
            "Epoch 87/100\n",
            "50000/50000 [==============================] - 12s 236us/step - loss: 0.3625 - accuracy: 0.8699 - val_loss: 2.7314 - val_accuracy: 0.5074\n",
            "Epoch 88/100\n",
            "50000/50000 [==============================] - 12s 234us/step - loss: 0.3434 - accuracy: 0.8784 - val_loss: 2.9229 - val_accuracy: 0.5051\n",
            "Epoch 89/100\n",
            "50000/50000 [==============================] - 12s 233us/step - loss: 0.3322 - accuracy: 0.8816 - val_loss: 2.8854 - val_accuracy: 0.5046\n",
            "Epoch 90/100\n",
            "50000/50000 [==============================] - 12s 235us/step - loss: 0.3343 - accuracy: 0.8794 - val_loss: 2.9578 - val_accuracy: 0.5013\n",
            "Epoch 91/100\n",
            "50000/50000 [==============================] - 12s 232us/step - loss: 0.3203 - accuracy: 0.8864 - val_loss: 2.9884 - val_accuracy: 0.5008\n",
            "Epoch 92/100\n",
            "50000/50000 [==============================] - 12s 232us/step - loss: 0.3162 - accuracy: 0.8877 - val_loss: 2.9478 - val_accuracy: 0.5037\n",
            "Epoch 93/100\n",
            "50000/50000 [==============================] - 12s 232us/step - loss: 0.3497 - accuracy: 0.8741 - val_loss: 2.9527 - val_accuracy: 0.4946\n",
            "Epoch 94/100\n",
            "50000/50000 [==============================] - 12s 234us/step - loss: 0.3140 - accuracy: 0.8876 - val_loss: 3.1340 - val_accuracy: 0.5004\n",
            "Epoch 95/100\n",
            "50000/50000 [==============================] - 13s 251us/step - loss: 0.2876 - accuracy: 0.8979 - val_loss: 3.1986 - val_accuracy: 0.5015\n",
            "Epoch 96/100\n",
            "50000/50000 [==============================] - 12s 236us/step - loss: 0.3312 - accuracy: 0.8811 - val_loss: 3.1392 - val_accuracy: 0.4902\n",
            "Epoch 97/100\n",
            "50000/50000 [==============================] - 12s 232us/step - loss: 0.3406 - accuracy: 0.8785 - val_loss: 3.0635 - val_accuracy: 0.5010\n",
            "Epoch 98/100\n",
            "50000/50000 [==============================] - 12s 234us/step - loss: 0.2867 - accuracy: 0.8983 - val_loss: 3.0604 - val_accuracy: 0.4998\n",
            "Epoch 99/100\n",
            "50000/50000 [==============================] - 12s 233us/step - loss: 0.2916 - accuracy: 0.8959 - val_loss: 3.1008 - val_accuracy: 0.4991\n",
            "Epoch 100/100\n",
            "50000/50000 [==============================] - 12s 233us/step - loss: 0.3208 - accuracy: 0.8855 - val_loss: 3.1242 - val_accuracy: 0.5049\n"
          ],
          "name": "stdout"
        },
        {
          "output_type": "execute_result",
          "data": {
            "text/plain": [
              "<keras.callbacks.callbacks.History at 0x7fbb03bdacf8>"
            ]
          },
          "metadata": {
            "tags": []
          },
          "execution_count": 32
        }
      ]
    },
    {
      "cell_type": "code",
      "metadata": {
        "id": "rFk9kDLANIfg",
        "colab_type": "code",
        "colab": {
          "base_uri": "https://localhost:8080/",
          "height": 545
        },
        "outputId": "4d2b76f2-e89c-439b-ad13-dd36210f345e"
      },
      "source": [
        "import matplotlib.pyplot as plt\n",
        "\n",
        "\n",
        "train_loss = model.history.history[\"loss\"]\n",
        "valid_loss = model.history.history[\"val_loss\"]\n",
        "\n",
        "train_acc = model.history.history[\"accuracy\"]\n",
        "valid_acc = model.history.history[\"val_accuracy\"]\n",
        "\n",
        "plt.plot(range(len(train_loss)), train_loss, label=\"train loss\")\n",
        "plt.plot(range(len(valid_loss)), valid_loss, label=\"valid loss\")\n",
        "plt.legend()\n",
        "plt.title(\"Loss\")\n",
        "plt.show()\n",
        "\n",
        "plt.plot(range(len(train_acc)), train_acc, label=\"train accuracy\")\n",
        "plt.plot(range(len(valid_acc)), valid_acc, label=\"valid accuracy\")\n",
        "plt.legend()\n",
        "plt.title(\"Accuracy\")\n",
        "plt.show()"
      ],
      "execution_count": 34,
      "outputs": [
        {
          "output_type": "display_data",
          "data": {
            "image/png": "[encoded data removed]",
            "text/plain": [
              "<Figure size 432x288 with 1 Axes>"
            ]
          },
          "metadata": {
            "tags": [],
            "needs_background": "light"
          }
        },
        {
          "output_type": "display_data",
          "data": {
            "image/png": "[encoded data removed]",
            "text/plain": [
              "<Figure size 432x288 with 1 Axes>"
            ]
          },
          "metadata": {
            "tags": [],
            "needs_background": "light"
          }
        }
      ]
    }
  ]
}