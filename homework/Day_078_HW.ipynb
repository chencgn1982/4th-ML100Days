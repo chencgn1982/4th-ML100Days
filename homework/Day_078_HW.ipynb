{
  "nbformat": 4,
  "nbformat_minor": 0,
  "metadata": {
    "kernelspec": {
      "display_name": "Python 3.7.0 64-bit",
      "language": "python",
      "name": "python_defaultSpec_1595997412783"
    },
    "language_info": {
      "codemirror_mode": {
        "name": "ipython",
        "version": 3
      },
      "file_extension": ".py",
      "mimetype": "text/x-python",
      "name": "python",
      "nbconvert_exporter": "python",
      "pygments_lexer": "ipython3",
      "version": "3.6.5"
    },
    "colab": {
      "name": "Day078_HW.ipynb",
      "provenance": []
    }
  },
  "cells": [
    {
      "cell_type": "markdown",
      "metadata": {
        "id": "2prDw3puNIfI",
        "colab_type": "text"
      },
      "source": [
        "## Work\n",
        "1. 請嘗試將 preproc_x 替換成以每筆資料的 min/max 進行標準化至 -1 ~ 1 間，再進行訓練\n",
        "2. 請嘗試將 mlp 疊更深 (e.g 5~10 層)，進行訓練後觀察 learning curve 的走勢\n",
        "3. (optional) 請改用 GPU 進行訓練 (如果你有 GPU 的話)，比較使用 CPU 與 GPU 的訓練速度"
      ]
    },
    {
      "cell_type": "code",
      "metadata": {
        "id": "qdo56LQyNIfJ",
        "colab_type": "code",
        "colab": {
          "base_uri": "https://localhost:8080/",
          "height": 35
        },
        "outputId": "be3d05a8-e466-4383-dbeb-e5ce7548a253"
      },
      "source": [
        "## \n",
        "\"\"\"\n",
        "Your code here (optional)\n",
        "確認硬體資源\n",
        "\"\"\"\n"
      ],
      "execution_count": 1,
      "outputs": [
        {
          "output_type": "execute_result",
          "data": {
            "application/vnd.google.colaboratory.intrinsic+json": {
              "type": "string"
            },
            "text/plain": [
              "'\\nYour code here (optional)\\n確認硬體資源\\n'"
            ]
          },
          "metadata": {
            "tags": []
          },
          "execution_count": 1
        }
      ]
    },
    {
      "cell_type": "code",
      "metadata": {
        "id": "2D-kDqRONIfN",
        "colab_type": "code",
        "colab": {
          "base_uri": "https://localhost:8080/",
          "height": 35
        },
        "outputId": "f57279af-4b66-4a94-b14a-a583f7f2c472"
      },
      "source": [
        "import os\n",
        "import keras\n",
        "\n",
        "# 請嘗試設定 GPU：os.environ\n"
      ],
      "execution_count": 2,
      "outputs": [
        {
          "output_type": "stream",
          "text": [
            "Using TensorFlow backend.\n"
          ],
          "name": "stderr"
        }
      ]
    },
    {
      "cell_type": "code",
      "metadata": {
        "id": "m-vBEEZ3NIfP",
        "colab_type": "code",
        "colab": {}
      },
      "source": [
        "train, test = keras.datasets.cifar10.load_data()"
      ],
      "execution_count": 3,
      "outputs": []
    },
    {
      "cell_type": "code",
      "metadata": {
        "id": "60OEA3pyNIfT",
        "colab_type": "code",
        "colab": {}
      },
      "source": [
        "import numpy as np\n",
        "## 資料前處理\n",
        "\"\"\"\n",
        "Your code here\n",
        "\"\"\"\n",
        "def preproc_x(x, flatten=True):\n",
        "    print(f'min x :{x.min()}')\n",
        "    print(f'max x :{x.max()}')\n",
        "    x = x / x.max()\n",
        "    if flatten:\n",
        "        x = x.reshape((len(x), -1))\n",
        "    return x\n",
        "\n",
        "def preproc_y(y, num_classes=10):\n",
        "    if y.shape[-1] == 1:\n",
        "        y = keras.utils.to_categorical(y, num_classes)\n",
        "    return y"
      ],
      "execution_count": 4,
      "outputs": []
    },
    {
      "cell_type": "code",
      "metadata": {
        "tags": [],
        "id": "GpECzlZkNIfV",
        "colab_type": "code",
        "colab": {
          "base_uri": "https://localhost:8080/",
          "height": 87
        },
        "outputId": "3d109935-fae5-4673-812f-4ec129810d84"
      },
      "source": [
        "x_train, y_train = train\n",
        "x_test, y_test = test\n",
        "\n",
        "# Preproc the inputs\n",
        "x_train = preproc_x(x_train)\n",
        "x_test = preproc_x(x_test)\n",
        "\n",
        "# Preprc the outputs\n",
        "y_train = preproc_y(y_train)\n",
        "y_test = preproc_y(y_test)"
      ],
      "execution_count": 5,
      "outputs": [
        {
          "output_type": "stream",
          "text": [
            "min x :0\n",
            "max x :255\n",
            "min x :0\n",
            "max x :255\n"
          ],
          "name": "stdout"
        }
      ]
    },
    {
      "cell_type": "code",
      "metadata": {
        "tags": [],
        "id": "tbq8IZYQNIfX",
        "colab_type": "code",
        "colab": {
          "base_uri": "https://localhost:8080/",
          "height": 832
        },
        "outputId": "ccc84b06-3e02-4516-9246-220bfb04bf1a"
      },
      "source": [
        "\"\"\"Code Here\n",
        "建立你的神經網路\n",
        "\"\"\"\n",
        "def build_mlp(input_shape, output_units=10, num_neurons=[512, 256, 128, 64, 32, 16, 8]):\n",
        "    input_layer = keras.layers.Input(input_shape)\n",
        "    \n",
        "    for i, n_units in enumerate(num_neurons):\n",
        "        print(f\"num_neurons:{num_neurons}\")\n",
        "        print(f\"enumerate(num_neurons):{enumerate(num_neurons)}\")\n",
        "        print(f\"i:{i}\")\n",
        "        if i == 0:\n",
        "            x = keras.layers.Dense(units=n_units, activation=\"relu\", name=\"hidden_layer\"+str(i+1))(input_layer)\n",
        "        else:\n",
        "            x = keras.layers.Dense(units=n_units, activation=\"relu\", name=\"hidden_layer\"+str(i+1))(x)\n",
        "    \n",
        "    out = keras.layers.Dense(units=output_units, activation=\"softmax\", name=\"output\")(x)\n",
        "    \n",
        "    model = keras.models.Model(inputs=[input_layer], outputs=[out])\n",
        "    return model\n",
        "    \n",
        "model = build_mlp(input_shape=x_train.shape[1:])\n",
        "model.summary()"
      ],
      "execution_count": 6,
      "outputs": [
        {
          "output_type": "stream",
          "text": [
            "num_neurons:[512, 256, 128, 64, 32, 16, 8]\n",
            "enumerate(num_neurons):<enumerate object at 0x7f708c1a9318>\n",
            "i:0\n",
            "num_neurons:[512, 256, 128, 64, 32, 16, 8]\n",
            "enumerate(num_neurons):<enumerate object at 0x7f708c1a9e10>\n",
            "i:1\n",
            "num_neurons:[512, 256, 128, 64, 32, 16, 8]\n",
            "enumerate(num_neurons):<enumerate object at 0x7f708c1a9b40>\n",
            "i:2\n",
            "num_neurons:[512, 256, 128, 64, 32, 16, 8]\n",
            "enumerate(num_neurons):<enumerate object at 0x7f708c1c5ea0>\n",
            "i:3\n",
            "num_neurons:[512, 256, 128, 64, 32, 16, 8]\n",
            "enumerate(num_neurons):<enumerate object at 0x7f708c1ccc18>\n",
            "i:4\n",
            "num_neurons:[512, 256, 128, 64, 32, 16, 8]\n",
            "enumerate(num_neurons):<enumerate object at 0x7f708c1d3d80>\n",
            "i:5\n",
            "num_neurons:[512, 256, 128, 64, 32, 16, 8]\n",
            "enumerate(num_neurons):<enumerate object at 0x7f708c1d8ca8>\n",
            "i:6\n",
            "Model: \"model_1\"\n",
            "_________________________________________________________________\n",
            "Layer (type)                 Output Shape              Param #   \n",
            "=================================================================\n",
            "input_1 (InputLayer)         (None, 3072)              0         \n",
            "_________________________________________________________________\n",
            "hidden_layer1 (Dense)        (None, 512)               1573376   \n",
            "_________________________________________________________________\n",
            "hidden_layer2 (Dense)        (None, 256)               131328    \n",
            "_________________________________________________________________\n",
            "hidden_layer3 (Dense)        (None, 128)               32896     \n",
            "_________________________________________________________________\n",
            "hidden_layer4 (Dense)        (None, 64)                8256      \n",
            "_________________________________________________________________\n",
            "hidden_layer5 (Dense)        (None, 32)                2080      \n",
            "_________________________________________________________________\n",
            "hidden_layer6 (Dense)        (None, 16)                528       \n",
            "_________________________________________________________________\n",
            "hidden_layer7 (Dense)        (None, 8)                 136       \n",
            "_________________________________________________________________\n",
            "output (Dense)               (None, 10)                90        \n",
            "=================================================================\n",
            "Total params: 1,748,690\n",
            "Trainable params: 1,748,690\n",
            "Non-trainable params: 0\n",
            "_________________________________________________________________\n"
          ],
          "name": "stdout"
        }
      ]
    },
    {
      "cell_type": "code",
      "metadata": {
        "id": "Ur4sCh9eNIfa",
        "colab_type": "code",
        "colab": {}
      },
      "source": [
        "## 超參數設定\n",
        "LEARNING_RATE = 0.001\n",
        "EPOCHS = 50\n",
        "BATCH_SIZE = 256\n"
      ],
      "execution_count": 7,
      "outputs": []
    },
    {
      "cell_type": "code",
      "metadata": {
        "id": "vcV-sBmjNIfc",
        "colab_type": "code",
        "colab": {}
      },
      "source": [
        "optimizer = keras.optimizers.Adam(lr=LEARNING_RATE)\n",
        "model.compile(loss=\"categorical_crossentropy\", metrics=[\"accuracy\"], optimizer=optimizer)"
      ],
      "execution_count": 8,
      "outputs": []
    },
    {
      "cell_type": "code",
      "metadata": {
        "id": "Dk1IoEnMWgM4",
        "colab_type": "code",
        "colab": {
          "base_uri": "https://localhost:8080/",
          "height": 35
        },
        "outputId": "bce0e745-c492-4933-816b-c81541733978"
      },
      "source": [
        "x_train.shape[1:]"
      ],
      "execution_count": 9,
      "outputs": [
        {
          "output_type": "execute_result",
          "data": {
            "text/plain": [
              "(3072,)"
            ]
          },
          "metadata": {
            "tags": []
          },
          "execution_count": 9
        }
      ]
    },
    {
      "cell_type": "code",
      "metadata": {
        "tags": [],
        "id": "cTSxbF5eNIfe",
        "colab_type": "code",
        "colab": {
          "base_uri": "https://localhost:8080/",
          "height": 1000
        },
        "outputId": "8ebb2c92-d0f1-4c32-951d-7156f5b14822"
      },
      "source": [
        "model.fit(x_train, y_train, \n",
        "          epochs=EPOCHS, \n",
        "          batch_size=BATCH_SIZE, \n",
        "          validation_data=(x_test, y_test), \n",
        "          shuffle=True)"
      ],
      "execution_count": 10,
      "outputs": [
        {
          "output_type": "stream",
          "text": [
            "Train on 50000 samples, validate on 10000 samples\n",
            "Epoch 1/50\n",
            "50000/50000 [==============================] - 10s 197us/step - loss: 2.2589 - accuracy: 0.1362 - val_loss: 2.1760 - val_accuracy: 0.1764\n",
            "Epoch 2/50\n",
            "50000/50000 [==============================] - 10s 192us/step - loss: 2.1118 - accuracy: 0.2014 - val_loss: 2.0366 - val_accuracy: 0.2231\n",
            "Epoch 3/50\n",
            "50000/50000 [==============================] - 10s 193us/step - loss: 1.9631 - accuracy: 0.2568 - val_loss: 1.8976 - val_accuracy: 0.2864\n",
            "Epoch 4/50\n",
            "50000/50000 [==============================] - 10s 193us/step - loss: 1.8533 - accuracy: 0.3062 - val_loss: 1.7838 - val_accuracy: 0.3383\n",
            "Epoch 5/50\n",
            "50000/50000 [==============================] - 10s 193us/step - loss: 1.7809 - accuracy: 0.3353 - val_loss: 1.7551 - val_accuracy: 0.3513\n",
            "Epoch 6/50\n",
            "50000/50000 [==============================] - 10s 193us/step - loss: 1.7175 - accuracy: 0.3700 - val_loss: 1.6912 - val_accuracy: 0.3821\n",
            "Epoch 7/50\n",
            "50000/50000 [==============================] - 10s 193us/step - loss: 1.6639 - accuracy: 0.3934 - val_loss: 1.6952 - val_accuracy: 0.3878\n",
            "Epoch 8/50\n",
            "50000/50000 [==============================] - 10s 196us/step - loss: 1.6196 - accuracy: 0.4146 - val_loss: 1.6147 - val_accuracy: 0.4150\n",
            "Epoch 9/50\n",
            "50000/50000 [==============================] - 10s 194us/step - loss: 1.5769 - accuracy: 0.4309 - val_loss: 1.6473 - val_accuracy: 0.4202\n",
            "Epoch 10/50\n",
            "50000/50000 [==============================] - 10s 194us/step - loss: 1.5496 - accuracy: 0.4383 - val_loss: 1.5581 - val_accuracy: 0.4455\n",
            "Epoch 11/50\n",
            "50000/50000 [==============================] - 10s 197us/step - loss: 1.5215 - accuracy: 0.4503 - val_loss: 1.5438 - val_accuracy: 0.4525\n",
            "Epoch 12/50\n",
            "50000/50000 [==============================] - 10s 199us/step - loss: 1.4948 - accuracy: 0.4600 - val_loss: 1.5452 - val_accuracy: 0.4510\n",
            "Epoch 13/50\n",
            "50000/50000 [==============================] - 10s 200us/step - loss: 1.4727 - accuracy: 0.4665 - val_loss: 1.5073 - val_accuracy: 0.4652\n",
            "Epoch 14/50\n",
            "50000/50000 [==============================] - 10s 200us/step - loss: 1.4467 - accuracy: 0.4780 - val_loss: 1.5175 - val_accuracy: 0.4617\n",
            "Epoch 15/50\n",
            "50000/50000 [==============================] - 10s 200us/step - loss: 1.4228 - accuracy: 0.4869 - val_loss: 1.5022 - val_accuracy: 0.4684\n",
            "Epoch 16/50\n",
            "50000/50000 [==============================] - 10s 200us/step - loss: 1.4049 - accuracy: 0.4912 - val_loss: 1.4809 - val_accuracy: 0.4761\n",
            "Epoch 17/50\n",
            "50000/50000 [==============================] - 10s 199us/step - loss: 1.3886 - accuracy: 0.5009 - val_loss: 1.5057 - val_accuracy: 0.4693\n",
            "Epoch 18/50\n",
            "50000/50000 [==============================] - 10s 200us/step - loss: 1.3597 - accuracy: 0.5081 - val_loss: 1.4911 - val_accuracy: 0.4785\n",
            "Epoch 19/50\n",
            "50000/50000 [==============================] - 10s 201us/step - loss: 1.3400 - accuracy: 0.5143 - val_loss: 1.4953 - val_accuracy: 0.4760\n",
            "Epoch 20/50\n",
            "50000/50000 [==============================] - 10s 197us/step - loss: 1.3222 - accuracy: 0.5209 - val_loss: 1.5071 - val_accuracy: 0.4688\n",
            "Epoch 21/50\n",
            "50000/50000 [==============================] - 10s 193us/step - loss: 1.3043 - accuracy: 0.5277 - val_loss: 1.4679 - val_accuracy: 0.4943\n",
            "Epoch 22/50\n",
            "50000/50000 [==============================] - 10s 193us/step - loss: 1.2825 - accuracy: 0.5350 - val_loss: 1.4449 - val_accuracy: 0.5025\n",
            "Epoch 23/50\n",
            "50000/50000 [==============================] - 10s 193us/step - loss: 1.2617 - accuracy: 0.5403 - val_loss: 1.4815 - val_accuracy: 0.4885\n",
            "Epoch 24/50\n",
            "50000/50000 [==============================] - 10s 194us/step - loss: 1.2419 - accuracy: 0.5491 - val_loss: 1.4601 - val_accuracy: 0.4960\n",
            "Epoch 25/50\n",
            "50000/50000 [==============================] - 10s 193us/step - loss: 1.2220 - accuracy: 0.5559 - val_loss: 1.4679 - val_accuracy: 0.5043\n",
            "Epoch 26/50\n",
            "50000/50000 [==============================] - 10s 192us/step - loss: 1.2074 - accuracy: 0.5611 - val_loss: 1.4522 - val_accuracy: 0.5004\n",
            "Epoch 27/50\n",
            "50000/50000 [==============================] - 10s 195us/step - loss: 1.1942 - accuracy: 0.5675 - val_loss: 1.4765 - val_accuracy: 0.4948\n",
            "Epoch 28/50\n",
            "50000/50000 [==============================] - 10s 192us/step - loss: 1.1709 - accuracy: 0.5747 - val_loss: 1.4685 - val_accuracy: 0.4975\n",
            "Epoch 29/50\n",
            "50000/50000 [==============================] - 10s 195us/step - loss: 1.1644 - accuracy: 0.5752 - val_loss: 1.4942 - val_accuracy: 0.5011\n",
            "Epoch 30/50\n",
            "50000/50000 [==============================] - 10s 194us/step - loss: 1.1445 - accuracy: 0.5820 - val_loss: 1.5300 - val_accuracy: 0.4972\n",
            "Epoch 31/50\n",
            "50000/50000 [==============================] - 10s 194us/step - loss: 1.1262 - accuracy: 0.5863 - val_loss: 1.4780 - val_accuracy: 0.5045\n",
            "Epoch 32/50\n",
            "50000/50000 [==============================] - 10s 194us/step - loss: 1.1006 - accuracy: 0.5965 - val_loss: 1.5110 - val_accuracy: 0.4934\n",
            "Epoch 33/50\n",
            "50000/50000 [==============================] - 10s 193us/step - loss: 1.0787 - accuracy: 0.6035 - val_loss: 1.5248 - val_accuracy: 0.4963\n",
            "Epoch 34/50\n",
            "50000/50000 [==============================] - 10s 197us/step - loss: 1.0838 - accuracy: 0.6026 - val_loss: 1.5109 - val_accuracy: 0.4983\n",
            "Epoch 35/50\n",
            "50000/50000 [==============================] - 10s 200us/step - loss: 1.0612 - accuracy: 0.6096 - val_loss: 1.5357 - val_accuracy: 0.4979\n",
            "Epoch 36/50\n",
            "50000/50000 [==============================] - 10s 200us/step - loss: 1.0472 - accuracy: 0.6141 - val_loss: 1.5533 - val_accuracy: 0.5036\n",
            "Epoch 37/50\n",
            "50000/50000 [==============================] - 10s 201us/step - loss: 1.0250 - accuracy: 0.6215 - val_loss: 1.5815 - val_accuracy: 0.4938\n",
            "Epoch 38/50\n",
            "50000/50000 [==============================] - 10s 200us/step - loss: 1.0137 - accuracy: 0.6285 - val_loss: 1.5582 - val_accuracy: 0.5015\n",
            "Epoch 39/50\n",
            "50000/50000 [==============================] - 10s 200us/step - loss: 1.0041 - accuracy: 0.6296 - val_loss: 1.6473 - val_accuracy: 0.4950\n",
            "Epoch 40/50\n",
            "50000/50000 [==============================] - 10s 201us/step - loss: 0.9882 - accuracy: 0.6364 - val_loss: 1.6250 - val_accuracy: 0.5038\n",
            "Epoch 41/50\n",
            "50000/50000 [==============================] - 10s 201us/step - loss: 0.9594 - accuracy: 0.6452 - val_loss: 1.6413 - val_accuracy: 0.4931\n",
            "Epoch 42/50\n",
            "50000/50000 [==============================] - 10s 200us/step - loss: 0.9564 - accuracy: 0.6475 - val_loss: 1.6561 - val_accuracy: 0.4882\n",
            "Epoch 43/50\n",
            "50000/50000 [==============================] - 10s 200us/step - loss: 0.9421 - accuracy: 0.6523 - val_loss: 1.6563 - val_accuracy: 0.4987\n",
            "Epoch 44/50\n",
            "50000/50000 [==============================] - 10s 201us/step - loss: 0.9315 - accuracy: 0.6550 - val_loss: 1.6891 - val_accuracy: 0.4960\n",
            "Epoch 45/50\n",
            "50000/50000 [==============================] - 10s 199us/step - loss: 0.9108 - accuracy: 0.6633 - val_loss: 1.7130 - val_accuracy: 0.4936\n",
            "Epoch 46/50\n",
            "50000/50000 [==============================] - 10s 199us/step - loss: 0.9076 - accuracy: 0.6630 - val_loss: 1.6972 - val_accuracy: 0.4991\n",
            "Epoch 47/50\n",
            "50000/50000 [==============================] - 10s 199us/step - loss: 0.8844 - accuracy: 0.6727 - val_loss: 1.7834 - val_accuracy: 0.4867\n",
            "Epoch 48/50\n",
            "50000/50000 [==============================] - 10s 199us/step - loss: 0.8818 - accuracy: 0.6726 - val_loss: 1.7724 - val_accuracy: 0.4881\n",
            "Epoch 49/50\n",
            "50000/50000 [==============================] - 10s 199us/step - loss: 0.8765 - accuracy: 0.6768 - val_loss: 1.7833 - val_accuracy: 0.4934\n",
            "Epoch 50/50\n",
            "50000/50000 [==============================] - 10s 199us/step - loss: 0.8375 - accuracy: 0.6891 - val_loss: 1.8458 - val_accuracy: 0.4867\n"
          ],
          "name": "stdout"
        },
        {
          "output_type": "execute_result",
          "data": {
            "text/plain": [
              "<keras.callbacks.callbacks.History at 0x7f708620efd0>"
            ]
          },
          "metadata": {
            "tags": []
          },
          "execution_count": 10
        }
      ]
    },
    {
      "cell_type": "code",
      "metadata": {
        "id": "rFk9kDLANIfg",
        "colab_type": "code",
        "colab": {
          "base_uri": "https://localhost:8080/",
          "height": 545
        },
        "outputId": "f4902b98-95b7-446b-9ff7-d2cc39d80099"
      },
      "source": [
        "import matplotlib.pyplot as plt\n",
        "\n",
        "\n",
        "train_loss = model.history.history[\"loss\"]\n",
        "valid_loss = model.history.history[\"val_loss\"]\n",
        "\n",
        "train_acc = model.history.history[\"accuracy\"]\n",
        "valid_acc = model.history.history[\"val_accuracy\"]\n",
        "\n",
        "plt.plot(range(len(train_loss)), train_loss, label=\"train loss\")\n",
        "plt.plot(range(len(valid_loss)), valid_loss, label=\"valid loss\")\n",
        "plt.legend()\n",
        "plt.title(\"Loss\")\n",
        "plt.show()\n",
        "\n",
        "plt.plot(range(len(train_acc)), train_acc, label=\"train accuracy\")\n",
        "plt.plot(range(len(valid_acc)), valid_acc, label=\"valid accuracy\")\n",
        "plt.legend()\n",
        "plt.title(\"Accuracy\")\n",
        "plt.show()"
      ],
      "execution_count": 11,
      "outputs": [
        {
          "output_type": "display_data",
          "data": {
            "image/png": "[encoded data removed]",
            "text/plain": [
              "<Figure size 432x288 with 1 Axes>"
            ]
          },
          "metadata": {
            "tags": [],
            "needs_background": "light"
          }
        },
        {
          "output_type": "display_data",
          "data": {
            "image/png": "[encoded data removed]",
            "text/plain": [
              "<Figure size 432x288 with 1 Axes>"
            ]
          },
          "metadata": {
            "tags": [],
            "needs_background": "light"
          }
        }
      ]
    }
  ]
}