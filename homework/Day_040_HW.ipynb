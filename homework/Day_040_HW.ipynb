{
 "cells": [
  {
   "cell_type": "markdown",
   "metadata": {},
   "source": [
    "## [作業重點]\n",
    "使用 Sklearn 中的 Lasso, Ridge 模型，來訓練各種資料集，務必了解送進去模型訓練的**資料型態**為何，也請了解模型中各項參數的意義。\n",
    "\n",
    "機器學習的模型非常多種，但要訓練的資料多半有固定的格式，確保你了解訓練資料的格式為何，這樣在應用新模型時，就能夠最快的上手開始訓練！"
   ]
  },
  {
   "cell_type": "markdown",
   "metadata": {},
   "source": [
    "## 練習時間\n",
    "試著使用 sklearn datasets 的其他資料集 (boston, ...)，來訓練自己的線性迴歸模型，並加上適當的正則化來觀察訓練情形。"
   ]
  },
  {
   "cell_type": "code",
   "execution_count": 38,
   "metadata": {},
   "outputs": [],
   "source": [
    "import numpy as np \n",
    "from sklearn import datasets, linear_model\n",
    "from sklearn.model_selection import train_test_split\n",
    "from sklearn.metrics import mean_squared_error, r2_score"
   ]
  },
  {
   "cell_type": "code",
   "execution_count": 39,
   "metadata": {},
   "outputs": [],
   "source": [
    "#load data\n",
    "boston = datasets.load_boston()\n",
    "#split data for train/test. boston.data(feature), boston.target(label)\n",
    "fea_train, fea_test, label_train, label_test = train_test_split(boston.data, boston.target, test_size = 0.2, random_state = 0)\n",
    "#create a linear model\n",
    "m = linear_model.LinearRegression()\n",
    "#training model\n",
    "m.fit(fea_train, label_train)\n",
    "#predict via model\n",
    "pred = m.predict(fea_test)\n",
    ""
   ]
  },
  {
   "cell_type": "code",
   "execution_count": 40,
   "metadata": {},
   "outputs": [
    {
     "output_type": "stream",
     "name": "stdout",
     "text": "[-1.19443447e-01  4.47799511e-02  5.48526168e-03  2.34080361e+00\n -1.61236043e+01  3.70870901e+00 -3.12108178e-03 -1.38639737e+00\n  2.44178327e-01 -1.09896366e-02 -1.04592119e+00  8.11010693e-03\n -4.92792725e-01]\nMSE : 33.44897999767654\n"
    }
   ],
   "source": [
    "print(m.coef_)\n",
    "#find out difference between pred and label_test (MSE)\n",
    "print(f\"MSE : {mean_squared_error(pred, label_test)}\")"
   ]
  },
  {
   "cell_type": "markdown",
   "metadata": {},
   "source": [
    "\n"
   ]
  },
  {
   "cell_type": "code",
   "execution_count": 41,
   "metadata": {},
   "outputs": [],
   "source": [
    "#create a LASSO model\n",
    "lasso = linear_model.Lasso(alpha = 1.0)\n",
    "#training model\n",
    "lasso.fit(fea_train, label_train)\n",
    "#predict via model\n",
    "l_pred = lasso.predict(fea_test)"
   ]
  },
  {
   "cell_type": "code",
   "execution_count": 42,
   "metadata": {},
   "outputs": [
    {
     "output_type": "stream",
     "name": "stdout",
     "text": "[-0.05889028  0.05317657 -0.          0.         -0.          0.67954962\n  0.01684077 -0.6487664   0.198738   -0.01399421 -0.86421958  0.00660309\n -0.73120957]\nMSE : 41.700096799949\n"
    }
   ],
   "source": [
    "#coefficients\n",
    "# 印出各特徵對應的係數，可以看到許多係數都變成 0，Lasso Regression 的確可以做特徵選取\n",
    "print(lasso.coef_)\n",
    "#MSE\n",
    "print(f\"MSE : {mean_squared_error(l_pred, label_test)}\")"
   ]
  },
  {
   "cell_type": "code",
   "execution_count": 43,
   "metadata": {},
   "outputs": [
    {
     "output_type": "stream",
     "name": "stdout",
     "text": "[-0.11588483  0.04657432 -0.03427504  2.20558835 -5.8289038   3.74962755\n -0.01285868 -1.24237268  0.21501334 -0.01176243 -0.94295864  0.00868351\n -0.50265982]\nMSE : 34.644438003541445\n"
    }
   ],
   "source": [
    "#create a Ridge model\n",
    "ridge = linear_model.Ridge(alpha = 2.0)\n",
    "#training model\n",
    "ridge.fit(fea_train, label_train)\n",
    "#predict via model\n",
    "r_pred = ridge.predict(fea_test)\n",
    "#coefficients\n",
    "# 印出 Ridge 的參數，可以很明顯看到比起 Linear Regression，參數的數值都明顯小了許多\n",
    "print(ridge.coef_)\n",
    "#MSE\n",
    "print(f\"MSE : {mean_squared_error(r_pred, label_test)}\")"
   ]
  },
  {
   "cell_type": "code",
   "execution_count": null,
   "metadata": {},
   "outputs": [],
   "source": []
  }
 ],
 "metadata": {
  "kernelspec": {
   "display_name": "Python 3",
   "language": "python",
   "name": "python3"
  },
  "language_info": {
   "codemirror_mode": {
    "name": "ipython",
    "version": 3
   },
   "file_extension": ".py",
   "mimetype": "text/x-python",
   "name": "python",
   "nbconvert_exporter": "python",
   "pygments_lexer": "ipython3",
   "version": "3.7.4-final"
  }
 },
 "nbformat": 4,
 "nbformat_minor": 2
}